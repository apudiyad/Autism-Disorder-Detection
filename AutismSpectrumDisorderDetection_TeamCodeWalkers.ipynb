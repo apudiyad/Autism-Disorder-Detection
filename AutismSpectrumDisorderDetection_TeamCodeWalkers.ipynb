{
  "nbformat": 4,
  "nbformat_minor": 0,
  "metadata": {
    "colab": {
      "provenance": []
    },
    "kernelspec": {
      "name": "python3",
      "display_name": "Python 3"
    },
    "language_info": {
      "name": "python"
    }
  },
  "cells": [
    {
      "cell_type": "markdown",
      "source": [
        "We'll be using the \"Autistic Spectrum Disorder Screening Data for Adult\" public dataset from the UCI repository. The datset was donated by Prof. Fadi Thabtah, after being published in the article \"Autism Spectrum Disorder Screening: Machine Learning Adaptation and DSM-5 Fulfillment\". You can find the article by Fadi Thabtah online."
      ],
      "metadata": {
        "id": "ZMYgN85YjpyF"
      }
    },
    {
      "cell_type": "markdown",
      "source": [
        "Road Map:\n",
        "\n",
        "Step 0: Import Datasets.\n",
        "\n",
        "Step 1: Clean Datasets (The data needs to be cleaned; many rows contain missing data, and there may be erroneous data identifiable as outliers).\n",
        "\n",
        "Step 2: A quick visualization with Seaborn.\n",
        "\n",
        "Step 3: Applied several Supervised Machine Learning (SML) techniques on the data for classification purpose.\n",
        "\n",
        "Step 4: Experimented with different topologies, optimizers, and hyperparameters for different models.\n",
        "\n",
        "Step 5: Model tuning.\n",
        "\n",
        "Step 6: Feature Selection.\n",
        "\n",
        "Step 7: Build a Multi-Layer Perceptron and train it to classify indivisual with ASD based on its features.\n",
        "\n",
        "Step 8: Conclusion.\n",
        "\n"
      ],
      "metadata": {
        "id": "Tdbw0rC7miDt"
      }
    },
    {
      "cell_type": "markdown",
      "source": [
        "Step 0: Import Datasets."
      ],
      "metadata": {
        "id": "huFvGMdsmxJO"
      }
    },
    {
      "cell_type": "code",
      "execution_count": 111,
      "metadata": {
        "colab": {
          "base_uri": "https://localhost:8080/",
          "height": 386
        },
        "id": "z_Z7iAoY2AUj",
        "outputId": "e1f195dd-f6db-4a01-c05b-44dc4190789d"
      },
      "outputs": [
        {
          "output_type": "execute_result",
          "data": {
            "text/plain": [
              "   A1_Score  A2_Score  A3_Score  A4_Score  A5_Score  A6_Score  A7_Score  \\\n",
              "0         1         1         0         1         0         0         0   \n",
              "1         1         1         0         1         1         0         1   \n",
              "2         1         1         0         1         0         0         1   \n",
              "3         1         0         0         0         0         0         0   \n",
              "4         1         1         1         1         1         0         1   \n",
              "\n",
              "   A8_Score  A9_Score  A10_Score  ... gender       ethnicity jundice austim  \\\n",
              "0         1         0          1  ...      m          Latino      no    yes   \n",
              "1         1         1          1  ...      m          Latino     yes    yes   \n",
              "2         1         0          1  ...      f  White-European      no    yes   \n",
              "3         1         0          0  ...      f               ?      no     no   \n",
              "4         1         1          1  ...      m          Others     yes     no   \n",
              "\n",
              "     contry_of_res used_app_before result       age_desc relation Class/ASD  \n",
              "0           Brazil              no      5  '18 and more'     Self        NO  \n",
              "1            Spain              no      8  '18 and more'   Parent       YES  \n",
              "2  'United States'              no      6  '18 and more'     Self        NO  \n",
              "3            Egypt              no      2  '18 and more'        ?        NO  \n",
              "4  'United States'              no      9  '18 and more'     Self       YES  \n",
              "\n",
              "[5 rows x 21 columns]"
            ],
            "text/html": [
              "\n",
              "  <div id=\"df-9328d77d-8a5d-4082-a806-d122b2e95f71\">\n",
              "    <div class=\"colab-df-container\">\n",
              "      <div>\n",
              "<style scoped>\n",
              "    .dataframe tbody tr th:only-of-type {\n",
              "        vertical-align: middle;\n",
              "    }\n",
              "\n",
              "    .dataframe tbody tr th {\n",
              "        vertical-align: top;\n",
              "    }\n",
              "\n",
              "    .dataframe thead th {\n",
              "        text-align: right;\n",
              "    }\n",
              "</style>\n",
              "<table border=\"1\" class=\"dataframe\">\n",
              "  <thead>\n",
              "    <tr style=\"text-align: right;\">\n",
              "      <th></th>\n",
              "      <th>A1_Score</th>\n",
              "      <th>A2_Score</th>\n",
              "      <th>A3_Score</th>\n",
              "      <th>A4_Score</th>\n",
              "      <th>A5_Score</th>\n",
              "      <th>A6_Score</th>\n",
              "      <th>A7_Score</th>\n",
              "      <th>A8_Score</th>\n",
              "      <th>A9_Score</th>\n",
              "      <th>A10_Score</th>\n",
              "      <th>...</th>\n",
              "      <th>gender</th>\n",
              "      <th>ethnicity</th>\n",
              "      <th>jundice</th>\n",
              "      <th>austim</th>\n",
              "      <th>contry_of_res</th>\n",
              "      <th>used_app_before</th>\n",
              "      <th>result</th>\n",
              "      <th>age_desc</th>\n",
              "      <th>relation</th>\n",
              "      <th>Class/ASD</th>\n",
              "    </tr>\n",
              "  </thead>\n",
              "  <tbody>\n",
              "    <tr>\n",
              "      <th>0</th>\n",
              "      <td>1</td>\n",
              "      <td>1</td>\n",
              "      <td>0</td>\n",
              "      <td>1</td>\n",
              "      <td>0</td>\n",
              "      <td>0</td>\n",
              "      <td>0</td>\n",
              "      <td>1</td>\n",
              "      <td>0</td>\n",
              "      <td>1</td>\n",
              "      <td>...</td>\n",
              "      <td>m</td>\n",
              "      <td>Latino</td>\n",
              "      <td>no</td>\n",
              "      <td>yes</td>\n",
              "      <td>Brazil</td>\n",
              "      <td>no</td>\n",
              "      <td>5</td>\n",
              "      <td>'18 and more'</td>\n",
              "      <td>Self</td>\n",
              "      <td>NO</td>\n",
              "    </tr>\n",
              "    <tr>\n",
              "      <th>1</th>\n",
              "      <td>1</td>\n",
              "      <td>1</td>\n",
              "      <td>0</td>\n",
              "      <td>1</td>\n",
              "      <td>1</td>\n",
              "      <td>0</td>\n",
              "      <td>1</td>\n",
              "      <td>1</td>\n",
              "      <td>1</td>\n",
              "      <td>1</td>\n",
              "      <td>...</td>\n",
              "      <td>m</td>\n",
              "      <td>Latino</td>\n",
              "      <td>yes</td>\n",
              "      <td>yes</td>\n",
              "      <td>Spain</td>\n",
              "      <td>no</td>\n",
              "      <td>8</td>\n",
              "      <td>'18 and more'</td>\n",
              "      <td>Parent</td>\n",
              "      <td>YES</td>\n",
              "    </tr>\n",
              "    <tr>\n",
              "      <th>2</th>\n",
              "      <td>1</td>\n",
              "      <td>1</td>\n",
              "      <td>0</td>\n",
              "      <td>1</td>\n",
              "      <td>0</td>\n",
              "      <td>0</td>\n",
              "      <td>1</td>\n",
              "      <td>1</td>\n",
              "      <td>0</td>\n",
              "      <td>1</td>\n",
              "      <td>...</td>\n",
              "      <td>f</td>\n",
              "      <td>White-European</td>\n",
              "      <td>no</td>\n",
              "      <td>yes</td>\n",
              "      <td>'United States'</td>\n",
              "      <td>no</td>\n",
              "      <td>6</td>\n",
              "      <td>'18 and more'</td>\n",
              "      <td>Self</td>\n",
              "      <td>NO</td>\n",
              "    </tr>\n",
              "    <tr>\n",
              "      <th>3</th>\n",
              "      <td>1</td>\n",
              "      <td>0</td>\n",
              "      <td>0</td>\n",
              "      <td>0</td>\n",
              "      <td>0</td>\n",
              "      <td>0</td>\n",
              "      <td>0</td>\n",
              "      <td>1</td>\n",
              "      <td>0</td>\n",
              "      <td>0</td>\n",
              "      <td>...</td>\n",
              "      <td>f</td>\n",
              "      <td>?</td>\n",
              "      <td>no</td>\n",
              "      <td>no</td>\n",
              "      <td>Egypt</td>\n",
              "      <td>no</td>\n",
              "      <td>2</td>\n",
              "      <td>'18 and more'</td>\n",
              "      <td>?</td>\n",
              "      <td>NO</td>\n",
              "    </tr>\n",
              "    <tr>\n",
              "      <th>4</th>\n",
              "      <td>1</td>\n",
              "      <td>1</td>\n",
              "      <td>1</td>\n",
              "      <td>1</td>\n",
              "      <td>1</td>\n",
              "      <td>0</td>\n",
              "      <td>1</td>\n",
              "      <td>1</td>\n",
              "      <td>1</td>\n",
              "      <td>1</td>\n",
              "      <td>...</td>\n",
              "      <td>m</td>\n",
              "      <td>Others</td>\n",
              "      <td>yes</td>\n",
              "      <td>no</td>\n",
              "      <td>'United States'</td>\n",
              "      <td>no</td>\n",
              "      <td>9</td>\n",
              "      <td>'18 and more'</td>\n",
              "      <td>Self</td>\n",
              "      <td>YES</td>\n",
              "    </tr>\n",
              "  </tbody>\n",
              "</table>\n",
              "<p>5 rows × 21 columns</p>\n",
              "</div>\n",
              "      <button class=\"colab-df-convert\" onclick=\"convertToInteractive('df-9328d77d-8a5d-4082-a806-d122b2e95f71')\"\n",
              "              title=\"Convert this dataframe to an interactive table.\"\n",
              "              style=\"display:none;\">\n",
              "        \n",
              "  <svg xmlns=\"http://www.w3.org/2000/svg\" height=\"24px\"viewBox=\"0 0 24 24\"\n",
              "       width=\"24px\">\n",
              "    <path d=\"M0 0h24v24H0V0z\" fill=\"none\"/>\n",
              "    <path d=\"M18.56 5.44l.94 2.06.94-2.06 2.06-.94-2.06-.94-.94-2.06-.94 2.06-2.06.94zm-11 1L8.5 8.5l.94-2.06 2.06-.94-2.06-.94L8.5 2.5l-.94 2.06-2.06.94zm10 10l.94 2.06.94-2.06 2.06-.94-2.06-.94-.94-2.06-.94 2.06-2.06.94z\"/><path d=\"M17.41 7.96l-1.37-1.37c-.4-.4-.92-.59-1.43-.59-.52 0-1.04.2-1.43.59L10.3 9.45l-7.72 7.72c-.78.78-.78 2.05 0 2.83L4 21.41c.39.39.9.59 1.41.59.51 0 1.02-.2 1.41-.59l7.78-7.78 2.81-2.81c.8-.78.8-2.07 0-2.86zM5.41 20L4 18.59l7.72-7.72 1.47 1.35L5.41 20z\"/>\n",
              "  </svg>\n",
              "      </button>\n",
              "      \n",
              "  <style>\n",
              "    .colab-df-container {\n",
              "      display:flex;\n",
              "      flex-wrap:wrap;\n",
              "      gap: 12px;\n",
              "    }\n",
              "\n",
              "    .colab-df-convert {\n",
              "      background-color: #E8F0FE;\n",
              "      border: none;\n",
              "      border-radius: 50%;\n",
              "      cursor: pointer;\n",
              "      display: none;\n",
              "      fill: #1967D2;\n",
              "      height: 32px;\n",
              "      padding: 0 0 0 0;\n",
              "      width: 32px;\n",
              "    }\n",
              "\n",
              "    .colab-df-convert:hover {\n",
              "      background-color: #E2EBFA;\n",
              "      box-shadow: 0px 1px 2px rgba(60, 64, 67, 0.3), 0px 1px 3px 1px rgba(60, 64, 67, 0.15);\n",
              "      fill: #174EA6;\n",
              "    }\n",
              "\n",
              "    [theme=dark] .colab-df-convert {\n",
              "      background-color: #3B4455;\n",
              "      fill: #D2E3FC;\n",
              "    }\n",
              "\n",
              "    [theme=dark] .colab-df-convert:hover {\n",
              "      background-color: #434B5C;\n",
              "      box-shadow: 0px 1px 3px 1px rgba(0, 0, 0, 0.15);\n",
              "      filter: drop-shadow(0px 1px 2px rgba(0, 0, 0, 0.3));\n",
              "      fill: #FFFFFF;\n",
              "    }\n",
              "  </style>\n",
              "\n",
              "      <script>\n",
              "        const buttonEl =\n",
              "          document.querySelector('#df-9328d77d-8a5d-4082-a806-d122b2e95f71 button.colab-df-convert');\n",
              "        buttonEl.style.display =\n",
              "          google.colab.kernel.accessAllowed ? 'block' : 'none';\n",
              "\n",
              "        async function convertToInteractive(key) {\n",
              "          const element = document.querySelector('#df-9328d77d-8a5d-4082-a806-d122b2e95f71');\n",
              "          const dataTable =\n",
              "            await google.colab.kernel.invokeFunction('convertToInteractive',\n",
              "                                                     [key], {});\n",
              "          if (!dataTable) return;\n",
              "\n",
              "          const docLinkHtml = 'Like what you see? Visit the ' +\n",
              "            '<a target=\"_blank\" href=https://colab.research.google.com/notebooks/data_table.ipynb>data table notebook</a>'\n",
              "            + ' to learn more about interactive tables.';\n",
              "          element.innerHTML = '';\n",
              "          dataTable['output_type'] = 'display_data';\n",
              "          await google.colab.output.renderOutput(dataTable, element);\n",
              "          const docLink = document.createElement('div');\n",
              "          docLink.innerHTML = docLinkHtml;\n",
              "          element.appendChild(docLink);\n",
              "        }\n",
              "      </script>\n",
              "    </div>\n",
              "  </div>\n",
              "  "
            ]
          },
          "metadata": {},
          "execution_count": 111
        }
      ],
      "source": [
        "import numpy as np\n",
        "import pandas as pd\n",
        "from time import time\n",
        "from IPython.display import display # Allows the use of display() for DataFrames\n",
        "\n",
        "\n",
        "# Pretty display for notebooks\n",
        "%matplotlib inline\n",
        "\n",
        "\n",
        "data = pd.read_csv('ASD2.csv', delimiter=',')\n",
        "# display(data.head(n=5))\n",
        "data.head(n=5)"
      ]
    },
    {
      "cell_type": "code",
      "source": [
        "# Total number of records\n",
        "n_records = len(data.index)\n",
        "\n",
        "# TODO: Number of records where individual's with ASD\n",
        "n_asd_yes = len(data[data[\"Class/ASD\"] == 'YES'])\n",
        "\n",
        "# TODO: Number of records where individual's with no ASD\n",
        "n_asd_no = len(data[data['Class/ASD'] == 'NO'])\n",
        "\n",
        "# TODO: Percentage of individuals whose are with ASD\n",
        "yes_percent = float(n_asd_yes) / n_records *100\n",
        "\n",
        "# Print the results\n",
        "print(\"Total number of records: {}\".format(n_records))\n",
        "print(\"Individuals diagonised with ASD: {}\".format(n_asd_yes))\n",
        "print(\"Individuals not diagonised with ASD: {}\".format(n_asd_no))\n",
        "print(\"Percentage of individuals diagonised with ASD: {:.2f}%\".format(yes_percent))"
      ],
      "metadata": {
        "colab": {
          "base_uri": "https://localhost:8080/"
        },
        "id": "etetfhCG5HtY",
        "outputId": "587aa090-b25a-435a-d68f-4d358371e520"
      },
      "execution_count": 112,
      "outputs": [
        {
          "output_type": "stream",
          "name": "stdout",
          "text": [
            "Total number of records: 703\n",
            "Individuals diagonised with ASD: 189\n",
            "Individuals not diagonised with ASD: 514\n",
            "Percentage of individuals diagonised with ASD: 26.88%\n"
          ]
        }
      ]
    },
    {
      "cell_type": "markdown",
      "source": [
        "This data contains 704 instances, and contains the following attributes:\n",
        "\n",
        "age: number (Age in years).\n",
        "\n",
        "gendar: String [Male/Female].\n",
        "\n",
        "ethnicity: String (List of common ethnicities in text format).\n",
        "\n",
        "Born with jaundice: Boolean [yes or no].\n",
        "\n",
        "Family member with PDD: Boolean [yes or no].\n",
        "\n",
        "Who is completing the test: String [Parent, self, caregiver, medical staff, clinician ,etc.].\n",
        "\n",
        "Country of residence : String (List of countries in text format).\n",
        "\n",
        "Used the screening app before : Boolean [yes or no] (Whether the user has used a screening app)\n",
        "\n",
        "Screening Method Type: Integer [0,1,2,3] (The type of screening methods chosen based on age category (0=toddler, 1=child, 2= adolescent, 3= adult).\n",
        "\n",
        "Question 1-10 Answer: Binary [0, 1] (The answer code of the question based on the screening method used).\n",
        "\n",
        "Screening Score: Integer (The final score obtained based on the scoring algorithm of the screening method used. This was computed in an automated manner)."
      ],
      "metadata": {
        "id": "rjpHldgbnANU"
      }
    },
    {
      "cell_type": "markdown",
      "source": [
        "# Preparing the Data\n",
        "Before data can be used as input for machine learning algorithms, it must be cleaned, formatted, and maybe even restructured — this is typically known as preprocessing. Unfortunately, for this dataset, there are many invalid or missing entries(?) we must deal with, moreover, there are some qualities about certain features that must be adjusted. This preprocessing can help tremendously with the outcome and predictive power of nearly all learning algorithms."
      ],
      "metadata": {
        "id": "VZaaWxlH-HhS"
      }
    },
    {
      "cell_type": "code",
      "source": [
        "asd_data = pd.read_csv('ASD2.csv', na_values=['?'])\n",
        "asd_data.head(n=5)"
      ],
      "metadata": {
        "colab": {
          "base_uri": "https://localhost:8080/",
          "height": 386
        },
        "id": "Rf9eusee-FGN",
        "outputId": "ccd94fa9-b8d0-47d5-d0c1-70827257df00"
      },
      "execution_count": 113,
      "outputs": [
        {
          "output_type": "execute_result",
          "data": {
            "text/plain": [
              "   A1_Score  A2_Score  A3_Score  A4_Score  A5_Score  A6_Score  A7_Score  \\\n",
              "0         1         1         0         1         0         0         0   \n",
              "1         1         1         0         1         1         0         1   \n",
              "2         1         1         0         1         0         0         1   \n",
              "3         1         0         0         0         0         0         0   \n",
              "4         1         1         1         1         1         0         1   \n",
              "\n",
              "   A8_Score  A9_Score  A10_Score  ...  gender       ethnicity jundice austim  \\\n",
              "0         1         0          1  ...       m          Latino      no    yes   \n",
              "1         1         1          1  ...       m          Latino     yes    yes   \n",
              "2         1         0          1  ...       f  White-European      no    yes   \n",
              "3         1         0          0  ...       f             NaN      no     no   \n",
              "4         1         1          1  ...       m          Others     yes     no   \n",
              "\n",
              "     contry_of_res used_app_before result       age_desc relation Class/ASD  \n",
              "0           Brazil              no      5  '18 and more'     Self        NO  \n",
              "1            Spain              no      8  '18 and more'   Parent       YES  \n",
              "2  'United States'              no      6  '18 and more'     Self        NO  \n",
              "3            Egypt              no      2  '18 and more'      NaN        NO  \n",
              "4  'United States'              no      9  '18 and more'     Self       YES  \n",
              "\n",
              "[5 rows x 21 columns]"
            ],
            "text/html": [
              "\n",
              "  <div id=\"df-05c043c3-ead0-4519-bab3-37939567b2c7\">\n",
              "    <div class=\"colab-df-container\">\n",
              "      <div>\n",
              "<style scoped>\n",
              "    .dataframe tbody tr th:only-of-type {\n",
              "        vertical-align: middle;\n",
              "    }\n",
              "\n",
              "    .dataframe tbody tr th {\n",
              "        vertical-align: top;\n",
              "    }\n",
              "\n",
              "    .dataframe thead th {\n",
              "        text-align: right;\n",
              "    }\n",
              "</style>\n",
              "<table border=\"1\" class=\"dataframe\">\n",
              "  <thead>\n",
              "    <tr style=\"text-align: right;\">\n",
              "      <th></th>\n",
              "      <th>A1_Score</th>\n",
              "      <th>A2_Score</th>\n",
              "      <th>A3_Score</th>\n",
              "      <th>A4_Score</th>\n",
              "      <th>A5_Score</th>\n",
              "      <th>A6_Score</th>\n",
              "      <th>A7_Score</th>\n",
              "      <th>A8_Score</th>\n",
              "      <th>A9_Score</th>\n",
              "      <th>A10_Score</th>\n",
              "      <th>...</th>\n",
              "      <th>gender</th>\n",
              "      <th>ethnicity</th>\n",
              "      <th>jundice</th>\n",
              "      <th>austim</th>\n",
              "      <th>contry_of_res</th>\n",
              "      <th>used_app_before</th>\n",
              "      <th>result</th>\n",
              "      <th>age_desc</th>\n",
              "      <th>relation</th>\n",
              "      <th>Class/ASD</th>\n",
              "    </tr>\n",
              "  </thead>\n",
              "  <tbody>\n",
              "    <tr>\n",
              "      <th>0</th>\n",
              "      <td>1</td>\n",
              "      <td>1</td>\n",
              "      <td>0</td>\n",
              "      <td>1</td>\n",
              "      <td>0</td>\n",
              "      <td>0</td>\n",
              "      <td>0</td>\n",
              "      <td>1</td>\n",
              "      <td>0</td>\n",
              "      <td>1</td>\n",
              "      <td>...</td>\n",
              "      <td>m</td>\n",
              "      <td>Latino</td>\n",
              "      <td>no</td>\n",
              "      <td>yes</td>\n",
              "      <td>Brazil</td>\n",
              "      <td>no</td>\n",
              "      <td>5</td>\n",
              "      <td>'18 and more'</td>\n",
              "      <td>Self</td>\n",
              "      <td>NO</td>\n",
              "    </tr>\n",
              "    <tr>\n",
              "      <th>1</th>\n",
              "      <td>1</td>\n",
              "      <td>1</td>\n",
              "      <td>0</td>\n",
              "      <td>1</td>\n",
              "      <td>1</td>\n",
              "      <td>0</td>\n",
              "      <td>1</td>\n",
              "      <td>1</td>\n",
              "      <td>1</td>\n",
              "      <td>1</td>\n",
              "      <td>...</td>\n",
              "      <td>m</td>\n",
              "      <td>Latino</td>\n",
              "      <td>yes</td>\n",
              "      <td>yes</td>\n",
              "      <td>Spain</td>\n",
              "      <td>no</td>\n",
              "      <td>8</td>\n",
              "      <td>'18 and more'</td>\n",
              "      <td>Parent</td>\n",
              "      <td>YES</td>\n",
              "    </tr>\n",
              "    <tr>\n",
              "      <th>2</th>\n",
              "      <td>1</td>\n",
              "      <td>1</td>\n",
              "      <td>0</td>\n",
              "      <td>1</td>\n",
              "      <td>0</td>\n",
              "      <td>0</td>\n",
              "      <td>1</td>\n",
              "      <td>1</td>\n",
              "      <td>0</td>\n",
              "      <td>1</td>\n",
              "      <td>...</td>\n",
              "      <td>f</td>\n",
              "      <td>White-European</td>\n",
              "      <td>no</td>\n",
              "      <td>yes</td>\n",
              "      <td>'United States'</td>\n",
              "      <td>no</td>\n",
              "      <td>6</td>\n",
              "      <td>'18 and more'</td>\n",
              "      <td>Self</td>\n",
              "      <td>NO</td>\n",
              "    </tr>\n",
              "    <tr>\n",
              "      <th>3</th>\n",
              "      <td>1</td>\n",
              "      <td>0</td>\n",
              "      <td>0</td>\n",
              "      <td>0</td>\n",
              "      <td>0</td>\n",
              "      <td>0</td>\n",
              "      <td>0</td>\n",
              "      <td>1</td>\n",
              "      <td>0</td>\n",
              "      <td>0</td>\n",
              "      <td>...</td>\n",
              "      <td>f</td>\n",
              "      <td>NaN</td>\n",
              "      <td>no</td>\n",
              "      <td>no</td>\n",
              "      <td>Egypt</td>\n",
              "      <td>no</td>\n",
              "      <td>2</td>\n",
              "      <td>'18 and more'</td>\n",
              "      <td>NaN</td>\n",
              "      <td>NO</td>\n",
              "    </tr>\n",
              "    <tr>\n",
              "      <th>4</th>\n",
              "      <td>1</td>\n",
              "      <td>1</td>\n",
              "      <td>1</td>\n",
              "      <td>1</td>\n",
              "      <td>1</td>\n",
              "      <td>0</td>\n",
              "      <td>1</td>\n",
              "      <td>1</td>\n",
              "      <td>1</td>\n",
              "      <td>1</td>\n",
              "      <td>...</td>\n",
              "      <td>m</td>\n",
              "      <td>Others</td>\n",
              "      <td>yes</td>\n",
              "      <td>no</td>\n",
              "      <td>'United States'</td>\n",
              "      <td>no</td>\n",
              "      <td>9</td>\n",
              "      <td>'18 and more'</td>\n",
              "      <td>Self</td>\n",
              "      <td>YES</td>\n",
              "    </tr>\n",
              "  </tbody>\n",
              "</table>\n",
              "<p>5 rows × 21 columns</p>\n",
              "</div>\n",
              "      <button class=\"colab-df-convert\" onclick=\"convertToInteractive('df-05c043c3-ead0-4519-bab3-37939567b2c7')\"\n",
              "              title=\"Convert this dataframe to an interactive table.\"\n",
              "              style=\"display:none;\">\n",
              "        \n",
              "  <svg xmlns=\"http://www.w3.org/2000/svg\" height=\"24px\"viewBox=\"0 0 24 24\"\n",
              "       width=\"24px\">\n",
              "    <path d=\"M0 0h24v24H0V0z\" fill=\"none\"/>\n",
              "    <path d=\"M18.56 5.44l.94 2.06.94-2.06 2.06-.94-2.06-.94-.94-2.06-.94 2.06-2.06.94zm-11 1L8.5 8.5l.94-2.06 2.06-.94-2.06-.94L8.5 2.5l-.94 2.06-2.06.94zm10 10l.94 2.06.94-2.06 2.06-.94-2.06-.94-.94-2.06-.94 2.06-2.06.94z\"/><path d=\"M17.41 7.96l-1.37-1.37c-.4-.4-.92-.59-1.43-.59-.52 0-1.04.2-1.43.59L10.3 9.45l-7.72 7.72c-.78.78-.78 2.05 0 2.83L4 21.41c.39.39.9.59 1.41.59.51 0 1.02-.2 1.41-.59l7.78-7.78 2.81-2.81c.8-.78.8-2.07 0-2.86zM5.41 20L4 18.59l7.72-7.72 1.47 1.35L5.41 20z\"/>\n",
              "  </svg>\n",
              "      </button>\n",
              "      \n",
              "  <style>\n",
              "    .colab-df-container {\n",
              "      display:flex;\n",
              "      flex-wrap:wrap;\n",
              "      gap: 12px;\n",
              "    }\n",
              "\n",
              "    .colab-df-convert {\n",
              "      background-color: #E8F0FE;\n",
              "      border: none;\n",
              "      border-radius: 50%;\n",
              "      cursor: pointer;\n",
              "      display: none;\n",
              "      fill: #1967D2;\n",
              "      height: 32px;\n",
              "      padding: 0 0 0 0;\n",
              "      width: 32px;\n",
              "    }\n",
              "\n",
              "    .colab-df-convert:hover {\n",
              "      background-color: #E2EBFA;\n",
              "      box-shadow: 0px 1px 2px rgba(60, 64, 67, 0.3), 0px 1px 3px 1px rgba(60, 64, 67, 0.15);\n",
              "      fill: #174EA6;\n",
              "    }\n",
              "\n",
              "    [theme=dark] .colab-df-convert {\n",
              "      background-color: #3B4455;\n",
              "      fill: #D2E3FC;\n",
              "    }\n",
              "\n",
              "    [theme=dark] .colab-df-convert:hover {\n",
              "      background-color: #434B5C;\n",
              "      box-shadow: 0px 1px 3px 1px rgba(0, 0, 0, 0.15);\n",
              "      filter: drop-shadow(0px 1px 2px rgba(0, 0, 0, 0.3));\n",
              "      fill: #FFFFFF;\n",
              "    }\n",
              "  </style>\n",
              "\n",
              "      <script>\n",
              "        const buttonEl =\n",
              "          document.querySelector('#df-05c043c3-ead0-4519-bab3-37939567b2c7 button.colab-df-convert');\n",
              "        buttonEl.style.display =\n",
              "          google.colab.kernel.accessAllowed ? 'block' : 'none';\n",
              "\n",
              "        async function convertToInteractive(key) {\n",
              "          const element = document.querySelector('#df-05c043c3-ead0-4519-bab3-37939567b2c7');\n",
              "          const dataTable =\n",
              "            await google.colab.kernel.invokeFunction('convertToInteractive',\n",
              "                                                     [key], {});\n",
              "          if (!dataTable) return;\n",
              "\n",
              "          const docLinkHtml = 'Like what you see? Visit the ' +\n",
              "            '<a target=\"_blank\" href=https://colab.research.google.com/notebooks/data_table.ipynb>data table notebook</a>'\n",
              "            + ' to learn more about interactive tables.';\n",
              "          element.innerHTML = '';\n",
              "          dataTable['output_type'] = 'display_data';\n",
              "          await google.colab.output.renderOutput(dataTable, element);\n",
              "          const docLink = document.createElement('div');\n",
              "          docLink.innerHTML = docLinkHtml;\n",
              "          element.appendChild(docLink);\n",
              "        }\n",
              "      </script>\n",
              "    </div>\n",
              "  </div>\n",
              "  "
            ]
          },
          "metadata": {},
          "execution_count": 113
        }
      ]
    },
    {
      "cell_type": "code",
      "source": [
        "asd_data.describe()"
      ],
      "metadata": {
        "colab": {
          "base_uri": "https://localhost:8080/",
          "height": 300
        },
        "id": "wjviuyk4-bd-",
        "outputId": "544ec545-0002-4871-ad17-1fb55a0bcce1"
      },
      "execution_count": 114,
      "outputs": [
        {
          "output_type": "execute_result",
          "data": {
            "text/plain": [
              "         A1_Score    A2_Score    A3_Score    A4_Score    A5_Score    A6_Score  \\\n",
              "count  703.000000  703.000000  703.000000  703.000000  703.000000  703.000000   \n",
              "mean     0.721195    0.452347    0.456615    0.495021    0.499289    0.284495   \n",
              "std      0.448731    0.498078    0.498469    0.500331    0.500355    0.451495   \n",
              "min      0.000000    0.000000    0.000000    0.000000    0.000000    0.000000   \n",
              "25%      0.000000    0.000000    0.000000    0.000000    0.000000    0.000000   \n",
              "50%      1.000000    0.000000    0.000000    0.000000    0.000000    0.000000   \n",
              "75%      1.000000    1.000000    1.000000    1.000000    1.000000    1.000000   \n",
              "max      1.000000    1.000000    1.000000    1.000000    1.000000    1.000000   \n",
              "\n",
              "         A7_Score    A8_Score    A9_Score   A10_Score         age      result  \n",
              "count  703.000000  703.000000  703.000000  703.000000  701.000000  703.000000  \n",
              "mean     0.416785    0.648649    0.324324    0.574680   29.703281    4.873400  \n",
              "std      0.493378    0.477732    0.468455    0.494743   16.518660    2.502914  \n",
              "min      0.000000    0.000000    0.000000    0.000000   17.000000    0.000000  \n",
              "25%      0.000000    0.000000    0.000000    0.000000   21.000000    3.000000  \n",
              "50%      0.000000    1.000000    0.000000    1.000000   27.000000    4.000000  \n",
              "75%      1.000000    1.000000    1.000000    1.000000   35.000000    7.000000  \n",
              "max      1.000000    1.000000    1.000000    1.000000  383.000000   10.000000  "
            ],
            "text/html": [
              "\n",
              "  <div id=\"df-8dcd247b-8a91-4449-87c6-caf1cff82d7c\">\n",
              "    <div class=\"colab-df-container\">\n",
              "      <div>\n",
              "<style scoped>\n",
              "    .dataframe tbody tr th:only-of-type {\n",
              "        vertical-align: middle;\n",
              "    }\n",
              "\n",
              "    .dataframe tbody tr th {\n",
              "        vertical-align: top;\n",
              "    }\n",
              "\n",
              "    .dataframe thead th {\n",
              "        text-align: right;\n",
              "    }\n",
              "</style>\n",
              "<table border=\"1\" class=\"dataframe\">\n",
              "  <thead>\n",
              "    <tr style=\"text-align: right;\">\n",
              "      <th></th>\n",
              "      <th>A1_Score</th>\n",
              "      <th>A2_Score</th>\n",
              "      <th>A3_Score</th>\n",
              "      <th>A4_Score</th>\n",
              "      <th>A5_Score</th>\n",
              "      <th>A6_Score</th>\n",
              "      <th>A7_Score</th>\n",
              "      <th>A8_Score</th>\n",
              "      <th>A9_Score</th>\n",
              "      <th>A10_Score</th>\n",
              "      <th>age</th>\n",
              "      <th>result</th>\n",
              "    </tr>\n",
              "  </thead>\n",
              "  <tbody>\n",
              "    <tr>\n",
              "      <th>count</th>\n",
              "      <td>703.000000</td>\n",
              "      <td>703.000000</td>\n",
              "      <td>703.000000</td>\n",
              "      <td>703.000000</td>\n",
              "      <td>703.000000</td>\n",
              "      <td>703.000000</td>\n",
              "      <td>703.000000</td>\n",
              "      <td>703.000000</td>\n",
              "      <td>703.000000</td>\n",
              "      <td>703.000000</td>\n",
              "      <td>701.000000</td>\n",
              "      <td>703.000000</td>\n",
              "    </tr>\n",
              "    <tr>\n",
              "      <th>mean</th>\n",
              "      <td>0.721195</td>\n",
              "      <td>0.452347</td>\n",
              "      <td>0.456615</td>\n",
              "      <td>0.495021</td>\n",
              "      <td>0.499289</td>\n",
              "      <td>0.284495</td>\n",
              "      <td>0.416785</td>\n",
              "      <td>0.648649</td>\n",
              "      <td>0.324324</td>\n",
              "      <td>0.574680</td>\n",
              "      <td>29.703281</td>\n",
              "      <td>4.873400</td>\n",
              "    </tr>\n",
              "    <tr>\n",
              "      <th>std</th>\n",
              "      <td>0.448731</td>\n",
              "      <td>0.498078</td>\n",
              "      <td>0.498469</td>\n",
              "      <td>0.500331</td>\n",
              "      <td>0.500355</td>\n",
              "      <td>0.451495</td>\n",
              "      <td>0.493378</td>\n",
              "      <td>0.477732</td>\n",
              "      <td>0.468455</td>\n",
              "      <td>0.494743</td>\n",
              "      <td>16.518660</td>\n",
              "      <td>2.502914</td>\n",
              "    </tr>\n",
              "    <tr>\n",
              "      <th>min</th>\n",
              "      <td>0.000000</td>\n",
              "      <td>0.000000</td>\n",
              "      <td>0.000000</td>\n",
              "      <td>0.000000</td>\n",
              "      <td>0.000000</td>\n",
              "      <td>0.000000</td>\n",
              "      <td>0.000000</td>\n",
              "      <td>0.000000</td>\n",
              "      <td>0.000000</td>\n",
              "      <td>0.000000</td>\n",
              "      <td>17.000000</td>\n",
              "      <td>0.000000</td>\n",
              "    </tr>\n",
              "    <tr>\n",
              "      <th>25%</th>\n",
              "      <td>0.000000</td>\n",
              "      <td>0.000000</td>\n",
              "      <td>0.000000</td>\n",
              "      <td>0.000000</td>\n",
              "      <td>0.000000</td>\n",
              "      <td>0.000000</td>\n",
              "      <td>0.000000</td>\n",
              "      <td>0.000000</td>\n",
              "      <td>0.000000</td>\n",
              "      <td>0.000000</td>\n",
              "      <td>21.000000</td>\n",
              "      <td>3.000000</td>\n",
              "    </tr>\n",
              "    <tr>\n",
              "      <th>50%</th>\n",
              "      <td>1.000000</td>\n",
              "      <td>0.000000</td>\n",
              "      <td>0.000000</td>\n",
              "      <td>0.000000</td>\n",
              "      <td>0.000000</td>\n",
              "      <td>0.000000</td>\n",
              "      <td>0.000000</td>\n",
              "      <td>1.000000</td>\n",
              "      <td>0.000000</td>\n",
              "      <td>1.000000</td>\n",
              "      <td>27.000000</td>\n",
              "      <td>4.000000</td>\n",
              "    </tr>\n",
              "    <tr>\n",
              "      <th>75%</th>\n",
              "      <td>1.000000</td>\n",
              "      <td>1.000000</td>\n",
              "      <td>1.000000</td>\n",
              "      <td>1.000000</td>\n",
              "      <td>1.000000</td>\n",
              "      <td>1.000000</td>\n",
              "      <td>1.000000</td>\n",
              "      <td>1.000000</td>\n",
              "      <td>1.000000</td>\n",
              "      <td>1.000000</td>\n",
              "      <td>35.000000</td>\n",
              "      <td>7.000000</td>\n",
              "    </tr>\n",
              "    <tr>\n",
              "      <th>max</th>\n",
              "      <td>1.000000</td>\n",
              "      <td>1.000000</td>\n",
              "      <td>1.000000</td>\n",
              "      <td>1.000000</td>\n",
              "      <td>1.000000</td>\n",
              "      <td>1.000000</td>\n",
              "      <td>1.000000</td>\n",
              "      <td>1.000000</td>\n",
              "      <td>1.000000</td>\n",
              "      <td>1.000000</td>\n",
              "      <td>383.000000</td>\n",
              "      <td>10.000000</td>\n",
              "    </tr>\n",
              "  </tbody>\n",
              "</table>\n",
              "</div>\n",
              "      <button class=\"colab-df-convert\" onclick=\"convertToInteractive('df-8dcd247b-8a91-4449-87c6-caf1cff82d7c')\"\n",
              "              title=\"Convert this dataframe to an interactive table.\"\n",
              "              style=\"display:none;\">\n",
              "        \n",
              "  <svg xmlns=\"http://www.w3.org/2000/svg\" height=\"24px\"viewBox=\"0 0 24 24\"\n",
              "       width=\"24px\">\n",
              "    <path d=\"M0 0h24v24H0V0z\" fill=\"none\"/>\n",
              "    <path d=\"M18.56 5.44l.94 2.06.94-2.06 2.06-.94-2.06-.94-.94-2.06-.94 2.06-2.06.94zm-11 1L8.5 8.5l.94-2.06 2.06-.94-2.06-.94L8.5 2.5l-.94 2.06-2.06.94zm10 10l.94 2.06.94-2.06 2.06-.94-2.06-.94-.94-2.06-.94 2.06-2.06.94z\"/><path d=\"M17.41 7.96l-1.37-1.37c-.4-.4-.92-.59-1.43-.59-.52 0-1.04.2-1.43.59L10.3 9.45l-7.72 7.72c-.78.78-.78 2.05 0 2.83L4 21.41c.39.39.9.59 1.41.59.51 0 1.02-.2 1.41-.59l7.78-7.78 2.81-2.81c.8-.78.8-2.07 0-2.86zM5.41 20L4 18.59l7.72-7.72 1.47 1.35L5.41 20z\"/>\n",
              "  </svg>\n",
              "      </button>\n",
              "      \n",
              "  <style>\n",
              "    .colab-df-container {\n",
              "      display:flex;\n",
              "      flex-wrap:wrap;\n",
              "      gap: 12px;\n",
              "    }\n",
              "\n",
              "    .colab-df-convert {\n",
              "      background-color: #E8F0FE;\n",
              "      border: none;\n",
              "      border-radius: 50%;\n",
              "      cursor: pointer;\n",
              "      display: none;\n",
              "      fill: #1967D2;\n",
              "      height: 32px;\n",
              "      padding: 0 0 0 0;\n",
              "      width: 32px;\n",
              "    }\n",
              "\n",
              "    .colab-df-convert:hover {\n",
              "      background-color: #E2EBFA;\n",
              "      box-shadow: 0px 1px 2px rgba(60, 64, 67, 0.3), 0px 1px 3px 1px rgba(60, 64, 67, 0.15);\n",
              "      fill: #174EA6;\n",
              "    }\n",
              "\n",
              "    [theme=dark] .colab-df-convert {\n",
              "      background-color: #3B4455;\n",
              "      fill: #D2E3FC;\n",
              "    }\n",
              "\n",
              "    [theme=dark] .colab-df-convert:hover {\n",
              "      background-color: #434B5C;\n",
              "      box-shadow: 0px 1px 3px 1px rgba(0, 0, 0, 0.15);\n",
              "      filter: drop-shadow(0px 1px 2px rgba(0, 0, 0, 0.3));\n",
              "      fill: #FFFFFF;\n",
              "    }\n",
              "  </style>\n",
              "\n",
              "      <script>\n",
              "        const buttonEl =\n",
              "          document.querySelector('#df-8dcd247b-8a91-4449-87c6-caf1cff82d7c button.colab-df-convert');\n",
              "        buttonEl.style.display =\n",
              "          google.colab.kernel.accessAllowed ? 'block' : 'none';\n",
              "\n",
              "        async function convertToInteractive(key) {\n",
              "          const element = document.querySelector('#df-8dcd247b-8a91-4449-87c6-caf1cff82d7c');\n",
              "          const dataTable =\n",
              "            await google.colab.kernel.invokeFunction('convertToInteractive',\n",
              "                                                     [key], {});\n",
              "          if (!dataTable) return;\n",
              "\n",
              "          const docLinkHtml = 'Like what you see? Visit the ' +\n",
              "            '<a target=\"_blank\" href=https://colab.research.google.com/notebooks/data_table.ipynb>data table notebook</a>'\n",
              "            + ' to learn more about interactive tables.';\n",
              "          element.innerHTML = '';\n",
              "          dataTable['output_type'] = 'display_data';\n",
              "          await google.colab.output.renderOutput(dataTable, element);\n",
              "          const docLink = document.createElement('div');\n",
              "          docLink.innerHTML = docLinkHtml;\n",
              "          element.appendChild(docLink);\n",
              "        }\n",
              "      </script>\n",
              "    </div>\n",
              "  </div>\n",
              "  "
            ]
          },
          "metadata": {},
          "execution_count": 114
        }
      ]
    },
    {
      "cell_type": "markdown",
      "source": [
        "Step 1: Clean Datasets."
      ],
      "metadata": {
        "id": "Fd0Lqfk1orLj"
      }
    },
    {
      "cell_type": "code",
      "source": [
        "asd_data.loc[(asd_data['age'].isnull()) |(asd_data['gender'].isnull()) |(asd_data['ethnicity'].isnull()) \n",
        "|(asd_data['jundice'].isnull())|(asd_data['austim'].isnull()) |(asd_data['contry_of_res'].isnull())\n",
        "            |(asd_data['used_app_before'].isnull())|(asd_data['result'].isnull())|(asd_data['age_desc'].isnull())\n",
        "            |(asd_data['relation'].isnull())]"
      ],
      "metadata": {
        "colab": {
          "base_uri": "https://localhost:8080/",
          "height": 661
        },
        "id": "s5jh5S2a-qfL",
        "outputId": "65c60714-71f5-478e-9278-3fa64043ed5d"
      },
      "execution_count": 115,
      "outputs": [
        {
          "output_type": "execute_result",
          "data": {
            "text/plain": [
              "     A1_Score  A2_Score  A3_Score  A4_Score  A5_Score  A6_Score  A7_Score  \\\n",
              "3           1         0         0         0         0         0         0   \n",
              "11          0         1         1         1         1         1         0   \n",
              "12          1         0         0         0         0         0         1   \n",
              "13          1         0         0         0         0         0         1   \n",
              "18          0         0         0         0         0         0         1   \n",
              "..        ...       ...       ...       ...       ...       ...       ...   \n",
              "651         0         0         0         0         0         0         0   \n",
              "657         0         0         1         1         0         0         1   \n",
              "658         1         1         1         1         1         1         0   \n",
              "665         0         0         0         0         0         0         0   \n",
              "700         1         0         1         1         1         0         1   \n",
              "\n",
              "     A8_Score  A9_Score  A10_Score  ...  gender ethnicity jundice austim  \\\n",
              "3           1         0          0  ...       f       NaN      no     no   \n",
              "11          0         1          0  ...       f       NaN      no     no   \n",
              "12          1         0          1  ...       m       NaN      no     no   \n",
              "13          1         0          1  ...       f       NaN      no     no   \n",
              "18          1         0          1  ...       m       NaN     yes     no   \n",
              "..        ...       ...        ...  ...     ...       ...     ...    ...   \n",
              "651         0         0          1  ...       f       NaN      no     no   \n",
              "657         0         0          0  ...       m       NaN      no     no   \n",
              "658         0         1          1  ...       m       NaN      no     no   \n",
              "665         1         0          0  ...       m       NaN      no     no   \n",
              "700         1         0          1  ...       f       NaN      no     no   \n",
              "\n",
              "              contry_of_res used_app_before result       age_desc relation  \\\n",
              "3                     Egypt              no      2  '18 and more'      NaN   \n",
              "11                  Bahamas              no      6  '18 and more'      NaN   \n",
              "12                  Austria              no      4  '18 and more'      NaN   \n",
              "13                Argentina              no      4  '18 and more'      NaN   \n",
              "18   'United Arab Emirates'              no      3  '18 and more'      NaN   \n",
              "..                      ...             ...    ...            ...      ...   \n",
              "651         'United States'              no      1  '18 and more'      NaN   \n",
              "657              Azerbaijan              no      3  '18 and more'      NaN   \n",
              "658                Pakistan              no      8  '18 and more'      NaN   \n",
              "665                    Iraq              no      1  '18 and more'      NaN   \n",
              "700                  Russia              no      7  '18 and more'      NaN   \n",
              "\n",
              "    Class/ASD  \n",
              "3          NO  \n",
              "11         NO  \n",
              "12         NO  \n",
              "13         NO  \n",
              "18         NO  \n",
              "..        ...  \n",
              "651        NO  \n",
              "657        NO  \n",
              "658       YES  \n",
              "665        NO  \n",
              "700       YES  \n",
              "\n",
              "[95 rows x 21 columns]"
            ],
            "text/html": [
              "\n",
              "  <div id=\"df-bffb8b89-1e20-4ef2-8758-a99ba5b4ed56\">\n",
              "    <div class=\"colab-df-container\">\n",
              "      <div>\n",
              "<style scoped>\n",
              "    .dataframe tbody tr th:only-of-type {\n",
              "        vertical-align: middle;\n",
              "    }\n",
              "\n",
              "    .dataframe tbody tr th {\n",
              "        vertical-align: top;\n",
              "    }\n",
              "\n",
              "    .dataframe thead th {\n",
              "        text-align: right;\n",
              "    }\n",
              "</style>\n",
              "<table border=\"1\" class=\"dataframe\">\n",
              "  <thead>\n",
              "    <tr style=\"text-align: right;\">\n",
              "      <th></th>\n",
              "      <th>A1_Score</th>\n",
              "      <th>A2_Score</th>\n",
              "      <th>A3_Score</th>\n",
              "      <th>A4_Score</th>\n",
              "      <th>A5_Score</th>\n",
              "      <th>A6_Score</th>\n",
              "      <th>A7_Score</th>\n",
              "      <th>A8_Score</th>\n",
              "      <th>A9_Score</th>\n",
              "      <th>A10_Score</th>\n",
              "      <th>...</th>\n",
              "      <th>gender</th>\n",
              "      <th>ethnicity</th>\n",
              "      <th>jundice</th>\n",
              "      <th>austim</th>\n",
              "      <th>contry_of_res</th>\n",
              "      <th>used_app_before</th>\n",
              "      <th>result</th>\n",
              "      <th>age_desc</th>\n",
              "      <th>relation</th>\n",
              "      <th>Class/ASD</th>\n",
              "    </tr>\n",
              "  </thead>\n",
              "  <tbody>\n",
              "    <tr>\n",
              "      <th>3</th>\n",
              "      <td>1</td>\n",
              "      <td>0</td>\n",
              "      <td>0</td>\n",
              "      <td>0</td>\n",
              "      <td>0</td>\n",
              "      <td>0</td>\n",
              "      <td>0</td>\n",
              "      <td>1</td>\n",
              "      <td>0</td>\n",
              "      <td>0</td>\n",
              "      <td>...</td>\n",
              "      <td>f</td>\n",
              "      <td>NaN</td>\n",
              "      <td>no</td>\n",
              "      <td>no</td>\n",
              "      <td>Egypt</td>\n",
              "      <td>no</td>\n",
              "      <td>2</td>\n",
              "      <td>'18 and more'</td>\n",
              "      <td>NaN</td>\n",
              "      <td>NO</td>\n",
              "    </tr>\n",
              "    <tr>\n",
              "      <th>11</th>\n",
              "      <td>0</td>\n",
              "      <td>1</td>\n",
              "      <td>1</td>\n",
              "      <td>1</td>\n",
              "      <td>1</td>\n",
              "      <td>1</td>\n",
              "      <td>0</td>\n",
              "      <td>0</td>\n",
              "      <td>1</td>\n",
              "      <td>0</td>\n",
              "      <td>...</td>\n",
              "      <td>f</td>\n",
              "      <td>NaN</td>\n",
              "      <td>no</td>\n",
              "      <td>no</td>\n",
              "      <td>Bahamas</td>\n",
              "      <td>no</td>\n",
              "      <td>6</td>\n",
              "      <td>'18 and more'</td>\n",
              "      <td>NaN</td>\n",
              "      <td>NO</td>\n",
              "    </tr>\n",
              "    <tr>\n",
              "      <th>12</th>\n",
              "      <td>1</td>\n",
              "      <td>0</td>\n",
              "      <td>0</td>\n",
              "      <td>0</td>\n",
              "      <td>0</td>\n",
              "      <td>0</td>\n",
              "      <td>1</td>\n",
              "      <td>1</td>\n",
              "      <td>0</td>\n",
              "      <td>1</td>\n",
              "      <td>...</td>\n",
              "      <td>m</td>\n",
              "      <td>NaN</td>\n",
              "      <td>no</td>\n",
              "      <td>no</td>\n",
              "      <td>Austria</td>\n",
              "      <td>no</td>\n",
              "      <td>4</td>\n",
              "      <td>'18 and more'</td>\n",
              "      <td>NaN</td>\n",
              "      <td>NO</td>\n",
              "    </tr>\n",
              "    <tr>\n",
              "      <th>13</th>\n",
              "      <td>1</td>\n",
              "      <td>0</td>\n",
              "      <td>0</td>\n",
              "      <td>0</td>\n",
              "      <td>0</td>\n",
              "      <td>0</td>\n",
              "      <td>1</td>\n",
              "      <td>1</td>\n",
              "      <td>0</td>\n",
              "      <td>1</td>\n",
              "      <td>...</td>\n",
              "      <td>f</td>\n",
              "      <td>NaN</td>\n",
              "      <td>no</td>\n",
              "      <td>no</td>\n",
              "      <td>Argentina</td>\n",
              "      <td>no</td>\n",
              "      <td>4</td>\n",
              "      <td>'18 and more'</td>\n",
              "      <td>NaN</td>\n",
              "      <td>NO</td>\n",
              "    </tr>\n",
              "    <tr>\n",
              "      <th>18</th>\n",
              "      <td>0</td>\n",
              "      <td>0</td>\n",
              "      <td>0</td>\n",
              "      <td>0</td>\n",
              "      <td>0</td>\n",
              "      <td>0</td>\n",
              "      <td>1</td>\n",
              "      <td>1</td>\n",
              "      <td>0</td>\n",
              "      <td>1</td>\n",
              "      <td>...</td>\n",
              "      <td>m</td>\n",
              "      <td>NaN</td>\n",
              "      <td>yes</td>\n",
              "      <td>no</td>\n",
              "      <td>'United Arab Emirates'</td>\n",
              "      <td>no</td>\n",
              "      <td>3</td>\n",
              "      <td>'18 and more'</td>\n",
              "      <td>NaN</td>\n",
              "      <td>NO</td>\n",
              "    </tr>\n",
              "    <tr>\n",
              "      <th>...</th>\n",
              "      <td>...</td>\n",
              "      <td>...</td>\n",
              "      <td>...</td>\n",
              "      <td>...</td>\n",
              "      <td>...</td>\n",
              "      <td>...</td>\n",
              "      <td>...</td>\n",
              "      <td>...</td>\n",
              "      <td>...</td>\n",
              "      <td>...</td>\n",
              "      <td>...</td>\n",
              "      <td>...</td>\n",
              "      <td>...</td>\n",
              "      <td>...</td>\n",
              "      <td>...</td>\n",
              "      <td>...</td>\n",
              "      <td>...</td>\n",
              "      <td>...</td>\n",
              "      <td>...</td>\n",
              "      <td>...</td>\n",
              "      <td>...</td>\n",
              "    </tr>\n",
              "    <tr>\n",
              "      <th>651</th>\n",
              "      <td>0</td>\n",
              "      <td>0</td>\n",
              "      <td>0</td>\n",
              "      <td>0</td>\n",
              "      <td>0</td>\n",
              "      <td>0</td>\n",
              "      <td>0</td>\n",
              "      <td>0</td>\n",
              "      <td>0</td>\n",
              "      <td>1</td>\n",
              "      <td>...</td>\n",
              "      <td>f</td>\n",
              "      <td>NaN</td>\n",
              "      <td>no</td>\n",
              "      <td>no</td>\n",
              "      <td>'United States'</td>\n",
              "      <td>no</td>\n",
              "      <td>1</td>\n",
              "      <td>'18 and more'</td>\n",
              "      <td>NaN</td>\n",
              "      <td>NO</td>\n",
              "    </tr>\n",
              "    <tr>\n",
              "      <th>657</th>\n",
              "      <td>0</td>\n",
              "      <td>0</td>\n",
              "      <td>1</td>\n",
              "      <td>1</td>\n",
              "      <td>0</td>\n",
              "      <td>0</td>\n",
              "      <td>1</td>\n",
              "      <td>0</td>\n",
              "      <td>0</td>\n",
              "      <td>0</td>\n",
              "      <td>...</td>\n",
              "      <td>m</td>\n",
              "      <td>NaN</td>\n",
              "      <td>no</td>\n",
              "      <td>no</td>\n",
              "      <td>Azerbaijan</td>\n",
              "      <td>no</td>\n",
              "      <td>3</td>\n",
              "      <td>'18 and more'</td>\n",
              "      <td>NaN</td>\n",
              "      <td>NO</td>\n",
              "    </tr>\n",
              "    <tr>\n",
              "      <th>658</th>\n",
              "      <td>1</td>\n",
              "      <td>1</td>\n",
              "      <td>1</td>\n",
              "      <td>1</td>\n",
              "      <td>1</td>\n",
              "      <td>1</td>\n",
              "      <td>0</td>\n",
              "      <td>0</td>\n",
              "      <td>1</td>\n",
              "      <td>1</td>\n",
              "      <td>...</td>\n",
              "      <td>m</td>\n",
              "      <td>NaN</td>\n",
              "      <td>no</td>\n",
              "      <td>no</td>\n",
              "      <td>Pakistan</td>\n",
              "      <td>no</td>\n",
              "      <td>8</td>\n",
              "      <td>'18 and more'</td>\n",
              "      <td>NaN</td>\n",
              "      <td>YES</td>\n",
              "    </tr>\n",
              "    <tr>\n",
              "      <th>665</th>\n",
              "      <td>0</td>\n",
              "      <td>0</td>\n",
              "      <td>0</td>\n",
              "      <td>0</td>\n",
              "      <td>0</td>\n",
              "      <td>0</td>\n",
              "      <td>0</td>\n",
              "      <td>1</td>\n",
              "      <td>0</td>\n",
              "      <td>0</td>\n",
              "      <td>...</td>\n",
              "      <td>m</td>\n",
              "      <td>NaN</td>\n",
              "      <td>no</td>\n",
              "      <td>no</td>\n",
              "      <td>Iraq</td>\n",
              "      <td>no</td>\n",
              "      <td>1</td>\n",
              "      <td>'18 and more'</td>\n",
              "      <td>NaN</td>\n",
              "      <td>NO</td>\n",
              "    </tr>\n",
              "    <tr>\n",
              "      <th>700</th>\n",
              "      <td>1</td>\n",
              "      <td>0</td>\n",
              "      <td>1</td>\n",
              "      <td>1</td>\n",
              "      <td>1</td>\n",
              "      <td>0</td>\n",
              "      <td>1</td>\n",
              "      <td>1</td>\n",
              "      <td>0</td>\n",
              "      <td>1</td>\n",
              "      <td>...</td>\n",
              "      <td>f</td>\n",
              "      <td>NaN</td>\n",
              "      <td>no</td>\n",
              "      <td>no</td>\n",
              "      <td>Russia</td>\n",
              "      <td>no</td>\n",
              "      <td>7</td>\n",
              "      <td>'18 and more'</td>\n",
              "      <td>NaN</td>\n",
              "      <td>YES</td>\n",
              "    </tr>\n",
              "  </tbody>\n",
              "</table>\n",
              "<p>95 rows × 21 columns</p>\n",
              "</div>\n",
              "      <button class=\"colab-df-convert\" onclick=\"convertToInteractive('df-bffb8b89-1e20-4ef2-8758-a99ba5b4ed56')\"\n",
              "              title=\"Convert this dataframe to an interactive table.\"\n",
              "              style=\"display:none;\">\n",
              "        \n",
              "  <svg xmlns=\"http://www.w3.org/2000/svg\" height=\"24px\"viewBox=\"0 0 24 24\"\n",
              "       width=\"24px\">\n",
              "    <path d=\"M0 0h24v24H0V0z\" fill=\"none\"/>\n",
              "    <path d=\"M18.56 5.44l.94 2.06.94-2.06 2.06-.94-2.06-.94-.94-2.06-.94 2.06-2.06.94zm-11 1L8.5 8.5l.94-2.06 2.06-.94-2.06-.94L8.5 2.5l-.94 2.06-2.06.94zm10 10l.94 2.06.94-2.06 2.06-.94-2.06-.94-.94-2.06-.94 2.06-2.06.94z\"/><path d=\"M17.41 7.96l-1.37-1.37c-.4-.4-.92-.59-1.43-.59-.52 0-1.04.2-1.43.59L10.3 9.45l-7.72 7.72c-.78.78-.78 2.05 0 2.83L4 21.41c.39.39.9.59 1.41.59.51 0 1.02-.2 1.41-.59l7.78-7.78 2.81-2.81c.8-.78.8-2.07 0-2.86zM5.41 20L4 18.59l7.72-7.72 1.47 1.35L5.41 20z\"/>\n",
              "  </svg>\n",
              "      </button>\n",
              "      \n",
              "  <style>\n",
              "    .colab-df-container {\n",
              "      display:flex;\n",
              "      flex-wrap:wrap;\n",
              "      gap: 12px;\n",
              "    }\n",
              "\n",
              "    .colab-df-convert {\n",
              "      background-color: #E8F0FE;\n",
              "      border: none;\n",
              "      border-radius: 50%;\n",
              "      cursor: pointer;\n",
              "      display: none;\n",
              "      fill: #1967D2;\n",
              "      height: 32px;\n",
              "      padding: 0 0 0 0;\n",
              "      width: 32px;\n",
              "    }\n",
              "\n",
              "    .colab-df-convert:hover {\n",
              "      background-color: #E2EBFA;\n",
              "      box-shadow: 0px 1px 2px rgba(60, 64, 67, 0.3), 0px 1px 3px 1px rgba(60, 64, 67, 0.15);\n",
              "      fill: #174EA6;\n",
              "    }\n",
              "\n",
              "    [theme=dark] .colab-df-convert {\n",
              "      background-color: #3B4455;\n",
              "      fill: #D2E3FC;\n",
              "    }\n",
              "\n",
              "    [theme=dark] .colab-df-convert:hover {\n",
              "      background-color: #434B5C;\n",
              "      box-shadow: 0px 1px 3px 1px rgba(0, 0, 0, 0.15);\n",
              "      filter: drop-shadow(0px 1px 2px rgba(0, 0, 0, 0.3));\n",
              "      fill: #FFFFFF;\n",
              "    }\n",
              "  </style>\n",
              "\n",
              "      <script>\n",
              "        const buttonEl =\n",
              "          document.querySelector('#df-bffb8b89-1e20-4ef2-8758-a99ba5b4ed56 button.colab-df-convert');\n",
              "        buttonEl.style.display =\n",
              "          google.colab.kernel.accessAllowed ? 'block' : 'none';\n",
              "\n",
              "        async function convertToInteractive(key) {\n",
              "          const element = document.querySelector('#df-bffb8b89-1e20-4ef2-8758-a99ba5b4ed56');\n",
              "          const dataTable =\n",
              "            await google.colab.kernel.invokeFunction('convertToInteractive',\n",
              "                                                     [key], {});\n",
              "          if (!dataTable) return;\n",
              "\n",
              "          const docLinkHtml = 'Like what you see? Visit the ' +\n",
              "            '<a target=\"_blank\" href=https://colab.research.google.com/notebooks/data_table.ipynb>data table notebook</a>'\n",
              "            + ' to learn more about interactive tables.';\n",
              "          element.innerHTML = '';\n",
              "          dataTable['output_type'] = 'display_data';\n",
              "          await google.colab.output.renderOutput(dataTable, element);\n",
              "          const docLink = document.createElement('div');\n",
              "          docLink.innerHTML = docLinkHtml;\n",
              "          element.appendChild(docLink);\n",
              "        }\n",
              "      </script>\n",
              "    </div>\n",
              "  </div>\n",
              "  "
            ]
          },
          "metadata": {},
          "execution_count": 115
        }
      ]
    },
    {
      "cell_type": "code",
      "source": [
        "asd_data.dropna(inplace=True)\n",
        "asd_data.describe()"
      ],
      "metadata": {
        "colab": {
          "base_uri": "https://localhost:8080/",
          "height": 300
        },
        "id": "rZMyHEjY-wn0",
        "outputId": "29afb073-1b98-4827-c901-f5bc3bf86f9d"
      },
      "execution_count": 116,
      "outputs": [
        {
          "output_type": "execute_result",
          "data": {
            "text/plain": [
              "         A1_Score    A2_Score    A3_Score    A4_Score    A5_Score    A6_Score  \\\n",
              "count  608.000000  608.000000  608.000000  608.000000  608.000000  608.000000   \n",
              "mean     0.740132    0.468750    0.480263    0.519737    0.526316    0.307566   \n",
              "std      0.438923    0.499433    0.500022    0.500022    0.499718    0.461866   \n",
              "min      0.000000    0.000000    0.000000    0.000000    0.000000    0.000000   \n",
              "25%      0.000000    0.000000    0.000000    0.000000    0.000000    0.000000   \n",
              "50%      1.000000    0.000000    0.000000    1.000000    1.000000    0.000000   \n",
              "75%      1.000000    1.000000    1.000000    1.000000    1.000000    1.000000   \n",
              "max      1.000000    1.000000    1.000000    1.000000    1.000000    1.000000   \n",
              "\n",
              "         A7_Score    A8_Score    A9_Score   A10_Score         age      result  \n",
              "count  608.000000  608.000000  608.000000  608.000000  608.000000  608.000000  \n",
              "mean     0.427632    0.664474    0.342105    0.598684   30.222039    5.075658  \n",
              "std      0.495142    0.472563    0.474805    0.490568   17.300857    2.524516  \n",
              "min      0.000000    0.000000    0.000000    0.000000   17.000000    0.000000  \n",
              "25%      0.000000    0.000000    0.000000    0.000000   22.000000    3.000000  \n",
              "50%      0.000000    1.000000    0.000000    1.000000   27.000000    5.000000  \n",
              "75%      1.000000    1.000000    1.000000    1.000000   35.000000    7.000000  \n",
              "max      1.000000    1.000000    1.000000    1.000000  383.000000   10.000000  "
            ],
            "text/html": [
              "\n",
              "  <div id=\"df-225f6f65-4858-469c-a460-199d6e8d23dc\">\n",
              "    <div class=\"colab-df-container\">\n",
              "      <div>\n",
              "<style scoped>\n",
              "    .dataframe tbody tr th:only-of-type {\n",
              "        vertical-align: middle;\n",
              "    }\n",
              "\n",
              "    .dataframe tbody tr th {\n",
              "        vertical-align: top;\n",
              "    }\n",
              "\n",
              "    .dataframe thead th {\n",
              "        text-align: right;\n",
              "    }\n",
              "</style>\n",
              "<table border=\"1\" class=\"dataframe\">\n",
              "  <thead>\n",
              "    <tr style=\"text-align: right;\">\n",
              "      <th></th>\n",
              "      <th>A1_Score</th>\n",
              "      <th>A2_Score</th>\n",
              "      <th>A3_Score</th>\n",
              "      <th>A4_Score</th>\n",
              "      <th>A5_Score</th>\n",
              "      <th>A6_Score</th>\n",
              "      <th>A7_Score</th>\n",
              "      <th>A8_Score</th>\n",
              "      <th>A9_Score</th>\n",
              "      <th>A10_Score</th>\n",
              "      <th>age</th>\n",
              "      <th>result</th>\n",
              "    </tr>\n",
              "  </thead>\n",
              "  <tbody>\n",
              "    <tr>\n",
              "      <th>count</th>\n",
              "      <td>608.000000</td>\n",
              "      <td>608.000000</td>\n",
              "      <td>608.000000</td>\n",
              "      <td>608.000000</td>\n",
              "      <td>608.000000</td>\n",
              "      <td>608.000000</td>\n",
              "      <td>608.000000</td>\n",
              "      <td>608.000000</td>\n",
              "      <td>608.000000</td>\n",
              "      <td>608.000000</td>\n",
              "      <td>608.000000</td>\n",
              "      <td>608.000000</td>\n",
              "    </tr>\n",
              "    <tr>\n",
              "      <th>mean</th>\n",
              "      <td>0.740132</td>\n",
              "      <td>0.468750</td>\n",
              "      <td>0.480263</td>\n",
              "      <td>0.519737</td>\n",
              "      <td>0.526316</td>\n",
              "      <td>0.307566</td>\n",
              "      <td>0.427632</td>\n",
              "      <td>0.664474</td>\n",
              "      <td>0.342105</td>\n",
              "      <td>0.598684</td>\n",
              "      <td>30.222039</td>\n",
              "      <td>5.075658</td>\n",
              "    </tr>\n",
              "    <tr>\n",
              "      <th>std</th>\n",
              "      <td>0.438923</td>\n",
              "      <td>0.499433</td>\n",
              "      <td>0.500022</td>\n",
              "      <td>0.500022</td>\n",
              "      <td>0.499718</td>\n",
              "      <td>0.461866</td>\n",
              "      <td>0.495142</td>\n",
              "      <td>0.472563</td>\n",
              "      <td>0.474805</td>\n",
              "      <td>0.490568</td>\n",
              "      <td>17.300857</td>\n",
              "      <td>2.524516</td>\n",
              "    </tr>\n",
              "    <tr>\n",
              "      <th>min</th>\n",
              "      <td>0.000000</td>\n",
              "      <td>0.000000</td>\n",
              "      <td>0.000000</td>\n",
              "      <td>0.000000</td>\n",
              "      <td>0.000000</td>\n",
              "      <td>0.000000</td>\n",
              "      <td>0.000000</td>\n",
              "      <td>0.000000</td>\n",
              "      <td>0.000000</td>\n",
              "      <td>0.000000</td>\n",
              "      <td>17.000000</td>\n",
              "      <td>0.000000</td>\n",
              "    </tr>\n",
              "    <tr>\n",
              "      <th>25%</th>\n",
              "      <td>0.000000</td>\n",
              "      <td>0.000000</td>\n",
              "      <td>0.000000</td>\n",
              "      <td>0.000000</td>\n",
              "      <td>0.000000</td>\n",
              "      <td>0.000000</td>\n",
              "      <td>0.000000</td>\n",
              "      <td>0.000000</td>\n",
              "      <td>0.000000</td>\n",
              "      <td>0.000000</td>\n",
              "      <td>22.000000</td>\n",
              "      <td>3.000000</td>\n",
              "    </tr>\n",
              "    <tr>\n",
              "      <th>50%</th>\n",
              "      <td>1.000000</td>\n",
              "      <td>0.000000</td>\n",
              "      <td>0.000000</td>\n",
              "      <td>1.000000</td>\n",
              "      <td>1.000000</td>\n",
              "      <td>0.000000</td>\n",
              "      <td>0.000000</td>\n",
              "      <td>1.000000</td>\n",
              "      <td>0.000000</td>\n",
              "      <td>1.000000</td>\n",
              "      <td>27.000000</td>\n",
              "      <td>5.000000</td>\n",
              "    </tr>\n",
              "    <tr>\n",
              "      <th>75%</th>\n",
              "      <td>1.000000</td>\n",
              "      <td>1.000000</td>\n",
              "      <td>1.000000</td>\n",
              "      <td>1.000000</td>\n",
              "      <td>1.000000</td>\n",
              "      <td>1.000000</td>\n",
              "      <td>1.000000</td>\n",
              "      <td>1.000000</td>\n",
              "      <td>1.000000</td>\n",
              "      <td>1.000000</td>\n",
              "      <td>35.000000</td>\n",
              "      <td>7.000000</td>\n",
              "    </tr>\n",
              "    <tr>\n",
              "      <th>max</th>\n",
              "      <td>1.000000</td>\n",
              "      <td>1.000000</td>\n",
              "      <td>1.000000</td>\n",
              "      <td>1.000000</td>\n",
              "      <td>1.000000</td>\n",
              "      <td>1.000000</td>\n",
              "      <td>1.000000</td>\n",
              "      <td>1.000000</td>\n",
              "      <td>1.000000</td>\n",
              "      <td>1.000000</td>\n",
              "      <td>383.000000</td>\n",
              "      <td>10.000000</td>\n",
              "    </tr>\n",
              "  </tbody>\n",
              "</table>\n",
              "</div>\n",
              "      <button class=\"colab-df-convert\" onclick=\"convertToInteractive('df-225f6f65-4858-469c-a460-199d6e8d23dc')\"\n",
              "              title=\"Convert this dataframe to an interactive table.\"\n",
              "              style=\"display:none;\">\n",
              "        \n",
              "  <svg xmlns=\"http://www.w3.org/2000/svg\" height=\"24px\"viewBox=\"0 0 24 24\"\n",
              "       width=\"24px\">\n",
              "    <path d=\"M0 0h24v24H0V0z\" fill=\"none\"/>\n",
              "    <path d=\"M18.56 5.44l.94 2.06.94-2.06 2.06-.94-2.06-.94-.94-2.06-.94 2.06-2.06.94zm-11 1L8.5 8.5l.94-2.06 2.06-.94-2.06-.94L8.5 2.5l-.94 2.06-2.06.94zm10 10l.94 2.06.94-2.06 2.06-.94-2.06-.94-.94-2.06-.94 2.06-2.06.94z\"/><path d=\"M17.41 7.96l-1.37-1.37c-.4-.4-.92-.59-1.43-.59-.52 0-1.04.2-1.43.59L10.3 9.45l-7.72 7.72c-.78.78-.78 2.05 0 2.83L4 21.41c.39.39.9.59 1.41.59.51 0 1.02-.2 1.41-.59l7.78-7.78 2.81-2.81c.8-.78.8-2.07 0-2.86zM5.41 20L4 18.59l7.72-7.72 1.47 1.35L5.41 20z\"/>\n",
              "  </svg>\n",
              "      </button>\n",
              "      \n",
              "  <style>\n",
              "    .colab-df-container {\n",
              "      display:flex;\n",
              "      flex-wrap:wrap;\n",
              "      gap: 12px;\n",
              "    }\n",
              "\n",
              "    .colab-df-convert {\n",
              "      background-color: #E8F0FE;\n",
              "      border: none;\n",
              "      border-radius: 50%;\n",
              "      cursor: pointer;\n",
              "      display: none;\n",
              "      fill: #1967D2;\n",
              "      height: 32px;\n",
              "      padding: 0 0 0 0;\n",
              "      width: 32px;\n",
              "    }\n",
              "\n",
              "    .colab-df-convert:hover {\n",
              "      background-color: #E2EBFA;\n",
              "      box-shadow: 0px 1px 2px rgba(60, 64, 67, 0.3), 0px 1px 3px 1px rgba(60, 64, 67, 0.15);\n",
              "      fill: #174EA6;\n",
              "    }\n",
              "\n",
              "    [theme=dark] .colab-df-convert {\n",
              "      background-color: #3B4455;\n",
              "      fill: #D2E3FC;\n",
              "    }\n",
              "\n",
              "    [theme=dark] .colab-df-convert:hover {\n",
              "      background-color: #434B5C;\n",
              "      box-shadow: 0px 1px 3px 1px rgba(0, 0, 0, 0.15);\n",
              "      filter: drop-shadow(0px 1px 2px rgba(0, 0, 0, 0.3));\n",
              "      fill: #FFFFFF;\n",
              "    }\n",
              "  </style>\n",
              "\n",
              "      <script>\n",
              "        const buttonEl =\n",
              "          document.querySelector('#df-225f6f65-4858-469c-a460-199d6e8d23dc button.colab-df-convert');\n",
              "        buttonEl.style.display =\n",
              "          google.colab.kernel.accessAllowed ? 'block' : 'none';\n",
              "\n",
              "        async function convertToInteractive(key) {\n",
              "          const element = document.querySelector('#df-225f6f65-4858-469c-a460-199d6e8d23dc');\n",
              "          const dataTable =\n",
              "            await google.colab.kernel.invokeFunction('convertToInteractive',\n",
              "                                                     [key], {});\n",
              "          if (!dataTable) return;\n",
              "\n",
              "          const docLinkHtml = 'Like what you see? Visit the ' +\n",
              "            '<a target=\"_blank\" href=https://colab.research.google.com/notebooks/data_table.ipynb>data table notebook</a>'\n",
              "            + ' to learn more about interactive tables.';\n",
              "          element.innerHTML = '';\n",
              "          dataTable['output_type'] = 'display_data';\n",
              "          await google.colab.output.renderOutput(dataTable, element);\n",
              "          const docLink = document.createElement('div');\n",
              "          docLink.innerHTML = docLinkHtml;\n",
              "          element.appendChild(docLink);\n",
              "        }\n",
              "      </script>\n",
              "    </div>\n",
              "  </div>\n",
              "  "
            ]
          },
          "metadata": {},
          "execution_count": 116
        }
      ]
    },
    {
      "cell_type": "code",
      "source": [
        "# Reminder of the features:\n",
        "print(asd_data.dtypes)\n",
        "\n",
        "\n",
        "# Total number of records in clean dataset\n",
        "n_records = len(asd_data.index)\n",
        "\n",
        "# TODO: Number of records where individual's with ASD in the clean dataset\n",
        "n_asd_yes = len(asd_data[asd_data['Class/ASD'] == 'YES'])\n",
        "\n",
        "# TODO: Number of records where individual's with no ASD in the clean dataset\n",
        "n_asd_no = len(asd_data[asd_data['Class/ASD'] == 'NO'])\n",
        "\n",
        "# Print the results\n",
        "print(\"Total number of records: {}\".format(n_records))\n",
        "print(\"Individuals diagonised with ASD: {}\".format(n_asd_yes))\n",
        "print(\"Individuals not diagonised with ASD: {}\".format(n_asd_no))"
      ],
      "metadata": {
        "colab": {
          "base_uri": "https://localhost:8080/"
        },
        "id": "DdQ2_2TK_PTe",
        "outputId": "6f990703-3f07-4975-b0ff-7d5cc2bfb525"
      },
      "execution_count": 117,
      "outputs": [
        {
          "output_type": "stream",
          "name": "stdout",
          "text": [
            "A1_Score             int64\n",
            "A2_Score             int64\n",
            "A3_Score             int64\n",
            "A4_Score             int64\n",
            "A5_Score             int64\n",
            "A6_Score             int64\n",
            "A7_Score             int64\n",
            "A8_Score             int64\n",
            "A9_Score             int64\n",
            "A10_Score            int64\n",
            "age                float64\n",
            "gender              object\n",
            "ethnicity           object\n",
            "jundice             object\n",
            "austim              object\n",
            "contry_of_res       object\n",
            "used_app_before     object\n",
            "result               int64\n",
            "age_desc            object\n",
            "relation            object\n",
            "Class/ASD           object\n",
            "dtype: object\n",
            "Total number of records: 608\n",
            "Individuals diagonised with ASD: 180\n",
            "Individuals not diagonised with ASD: 428\n"
          ]
        }
      ]
    },
    {
      "cell_type": "markdown",
      "source": [
        "Step 2: A quick visualization with Seaborn"
      ],
      "metadata": {
        "id": "lG7VAs65pG4G"
      }
    },
    {
      "cell_type": "code",
      "source": [
        "import seaborn as sns\n",
        "import matplotlib.pyplot as plt\n",
        "sns.set(style=\"whitegrid\", color_codes=True)"
      ],
      "metadata": {
        "id": "V9jnP8ly_gMp"
      },
      "execution_count": 118,
      "outputs": []
    },
    {
      "cell_type": "code",
      "source": [
        "# Draw a nested violinplot and split the violins for easier comparison\n",
        "sns.violinplot(x=\"jundice\", y=\"result\", hue=\"austim\", data=asd_data, split=True,\n",
        "                inner=\"quart\", palette={'yes': \"r\", 'no': \"b\"})\n",
        "sns.despine(left=True)"
      ],
      "metadata": {
        "colab": {
          "base_uri": "https://localhost:8080/",
          "height": 286
        },
        "id": "7tDgB9qD_kPh",
        "outputId": "ef2716cd-e37e-47b5-b619-218eb4776921"
      },
      "execution_count": 119,
      "outputs": [
        {
          "output_type": "display_data",
          "data": {
            "text/plain": [
              "<Figure size 432x288 with 1 Axes>"
            ],
            "image/png": "[encoded data removed]"
          },
          "metadata": {}
        }
      ]
    },
    {
      "cell_type": "code",
      "source": [
        "# Draw a nested violinplot and split the violins for easier comparison\n",
        "sns.violinplot(x=\"jundice\", y=\"result\", hue=\"Class/ASD\", data=asd_data, split=True,\n",
        "                inner=\"quart\", palette={'YES': \"r\", 'NO': \"b\"})\n",
        "sns.despine(left=True)"
      ],
      "metadata": {
        "colab": {
          "base_uri": "https://localhost:8080/",
          "height": 285
        },
        "id": "nzzuXb8W_qLk",
        "outputId": "ab39dc33-5d01-4f76-aef5-f108dbca5017"
      },
      "execution_count": 120,
      "outputs": [
        {
          "output_type": "display_data",
          "data": {
            "text/plain": [
              "<Figure size 432x288 with 1 Axes>"
            ],
            "image/png": "[encoded data removed]"
          },
          "metadata": {}
        }
      ]
    },
    {
      "cell_type": "code",
      "source": [
        "# Draw a nested violinplot and split the violins for easier comparison\n",
        "sns.violinplot(x=\"gender\", y=\"result\", hue=\"Class/ASD\", data=asd_data, split=True,\n",
        "                inner=\"quart\", palette={'YES': \"r\", 'NO': \"b\"})\n",
        "sns.despine(left=True)"
      ],
      "metadata": {
        "colab": {
          "base_uri": "https://localhost:8080/",
          "height": 285
        },
        "id": "JAxS2p1W_vUr",
        "outputId": "d6ef64f1-f04b-4dbb-ba7d-cb386c0569c8"
      },
      "execution_count": 121,
      "outputs": [
        {
          "output_type": "display_data",
          "data": {
            "text/plain": [
              "<Figure size 432x288 with 1 Axes>"
            ],
            "image/png": "[encoded data removed]"
          },
          "metadata": {}
        }
      ]
    },
    {
      "cell_type": "code",
      "source": [
        "sns.factorplot(x=\"jundice\", y=\"result\", hue=\"Class/ASD\", col=\"gender\", data=asd_data, kind=\"swarm\");\n"
      ],
      "metadata": {
        "colab": {
          "base_uri": "https://localhost:8080/",
          "height": 489
        },
        "id": "NRKJlZcq_ydd",
        "outputId": "5cf958ed-b651-447d-c41b-21f69605325c"
      },
      "execution_count": 122,
      "outputs": [
        {
          "output_type": "stream",
          "name": "stderr",
          "text": [
            "/usr/local/lib/python3.8/dist-packages/seaborn/categorical.py:3717: UserWarning: The `factorplot` function has been renamed to `catplot`. The original name will be removed in a future release. Please update your code. Note that the default `kind` in `factorplot` (`'point'`) has changed `'strip'` in `catplot`.\n",
            "  warnings.warn(msg)\n",
            "/usr/local/lib/python3.8/dist-packages/seaborn/categorical.py:1296: UserWarning: 30.1% of the points cannot be placed; you may want to decrease the size of the markers or use stripplot.\n",
            "  warnings.warn(msg, UserWarning)\n",
            "/usr/local/lib/python3.8/dist-packages/seaborn/categorical.py:1296: UserWarning: 19.8% of the points cannot be placed; you may want to decrease the size of the markers or use stripplot.\n",
            "  warnings.warn(msg, UserWarning)\n"
          ]
        },
        {
          "output_type": "display_data",
          "data": {
            "text/plain": [
              "<Figure size 789.8x360 with 2 Axes>"
            ],
            "image/png": "[encoded data removed]"
          },
          "metadata": {}
        }
      ]
    },
    {
      "cell_type": "code",
      "source": [
        "sns.factorplot(x=\"gender\", y=\"result\", hue=\"Class/ASD\",\n",
        "               col=\"relation\", data=asd_data, kind=\"box\", size=4, aspect=.5, palette={'YES': \"r\", 'NO': \"b\"});"
      ],
      "metadata": {
        "colab": {
          "base_uri": "https://localhost:8080/",
          "height": 382
        },
        "id": "wMMfDeiX_8pR",
        "outputId": "52c8da15-2627-411b-d50a-e1564a0a03a8"
      },
      "execution_count": 123,
      "outputs": [
        {
          "output_type": "stream",
          "name": "stderr",
          "text": [
            "/usr/local/lib/python3.8/dist-packages/seaborn/categorical.py:3717: UserWarning: The `factorplot` function has been renamed to `catplot`. The original name will be removed in a future release. Please update your code. Note that the default `kind` in `factorplot` (`'point'`) has changed `'strip'` in `catplot`.\n",
            "  warnings.warn(msg)\n",
            "/usr/local/lib/python3.8/dist-packages/seaborn/categorical.py:3723: UserWarning: The `size` parameter has been renamed to `height`; please update your code.\n",
            "  warnings.warn(msg, UserWarning)\n"
          ]
        },
        {
          "output_type": "display_data",
          "data": {
            "text/plain": [
              "<Figure size 789.8x288 with 5 Axes>"
            ],
            "image/png": "[encoded data removed]"
          },
          "metadata": {}
        }
      ]
    },
    {
      "cell_type": "code",
      "source": [
        "asd_raw = asd_data['Class/ASD']\n",
        "features_raw = asd_data[['age', 'gender', 'ethnicity', 'jundice', 'austim', 'contry_of_res', 'result',\n",
        "                      'relation','A1_Score','A2_Score','A3_Score','A4_Score','A5_Score','A6_Score','A7_Score','A8_Score',\n",
        "                      'A9_Score','A10_Score']]"
      ],
      "metadata": {
        "id": "ogcjUADH__EI"
      },
      "execution_count": 124,
      "outputs": []
    },
    {
      "cell_type": "markdown",
      "source": [
        "Normalising Data"
      ],
      "metadata": {
        "id": "ZDultVCGpPNc"
      }
    },
    {
      "cell_type": "code",
      "source": [
        "from sklearn.preprocessing import MinMaxScaler\n",
        "\n",
        "scaler = MinMaxScaler()\n",
        "numerical = ['age', 'result']\n",
        "\n",
        "features_minmax_transform = pd.DataFrame(data = features_raw)\n",
        "features_minmax_transform[numerical] = scaler.fit_transform(features_raw[numerical])\n",
        "features_minmax_transform\n",
        "# Show an example of a record with scaling applied\n",
        "display(features_minmax_transform.head(n = 5))"
      ],
      "metadata": {
        "colab": {
          "base_uri": "https://localhost:8080/",
          "height": 268
        },
        "id": "DwKrtx4dADjf",
        "outputId": "5fe13314-30a4-4ec9-b4a7-aa3bfd588eb1"
      },
      "execution_count": 125,
      "outputs": [
        {
          "output_type": "display_data",
          "data": {
            "text/plain": [
              "        age gender       ethnicity jundice austim    contry_of_res  result  \\\n",
              "0  0.019126      m          Latino      no    yes           Brazil     0.5   \n",
              "1  0.027322      m          Latino     yes    yes            Spain     0.8   \n",
              "2  0.049180      f  White-European      no    yes  'United States'     0.6   \n",
              "4  0.051913      m          Others     yes     no  'United States'     0.9   \n",
              "5  0.000000      f           Black      no     no  'United States'     0.2   \n",
              "\n",
              "  relation  A1_Score  A2_Score  A3_Score  A4_Score  A5_Score  A6_Score  \\\n",
              "0     Self         1         1         0         1         0         0   \n",
              "1   Parent         1         1         0         1         1         0   \n",
              "2     Self         1         1         0         1         0         0   \n",
              "4     Self         1         1         1         1         1         0   \n",
              "5     Self         0         1         0         0         0         0   \n",
              "\n",
              "   A7_Score  A8_Score  A9_Score  A10_Score  \n",
              "0         0         1         0          1  \n",
              "1         1         1         1          1  \n",
              "2         1         1         0          1  \n",
              "4         1         1         1          1  \n",
              "5         0         1         0          0  "
            ],
            "text/html": [
              "\n",
              "  <div id=\"df-8e8dd5db-0a12-4539-bf28-53f65a01062a\">\n",
              "    <div class=\"colab-df-container\">\n",
              "      <div>\n",
              "<style scoped>\n",
              "    .dataframe tbody tr th:only-of-type {\n",
              "        vertical-align: middle;\n",
              "    }\n",
              "\n",
              "    .dataframe tbody tr th {\n",
              "        vertical-align: top;\n",
              "    }\n",
              "\n",
              "    .dataframe thead th {\n",
              "        text-align: right;\n",
              "    }\n",
              "</style>\n",
              "<table border=\"1\" class=\"dataframe\">\n",
              "  <thead>\n",
              "    <tr style=\"text-align: right;\">\n",
              "      <th></th>\n",
              "      <th>age</th>\n",
              "      <th>gender</th>\n",
              "      <th>ethnicity</th>\n",
              "      <th>jundice</th>\n",
              "      <th>austim</th>\n",
              "      <th>contry_of_res</th>\n",
              "      <th>result</th>\n",
              "      <th>relation</th>\n",
              "      <th>A1_Score</th>\n",
              "      <th>A2_Score</th>\n",
              "      <th>A3_Score</th>\n",
              "      <th>A4_Score</th>\n",
              "      <th>A5_Score</th>\n",
              "      <th>A6_Score</th>\n",
              "      <th>A7_Score</th>\n",
              "      <th>A8_Score</th>\n",
              "      <th>A9_Score</th>\n",
              "      <th>A10_Score</th>\n",
              "    </tr>\n",
              "  </thead>\n",
              "  <tbody>\n",
              "    <tr>\n",
              "      <th>0</th>\n",
              "      <td>0.019126</td>\n",
              "      <td>m</td>\n",
              "      <td>Latino</td>\n",
              "      <td>no</td>\n",
              "      <td>yes</td>\n",
              "      <td>Brazil</td>\n",
              "      <td>0.5</td>\n",
              "      <td>Self</td>\n",
              "      <td>1</td>\n",
              "      <td>1</td>\n",
              "      <td>0</td>\n",
              "      <td>1</td>\n",
              "      <td>0</td>\n",
              "      <td>0</td>\n",
              "      <td>0</td>\n",
              "      <td>1</td>\n",
              "      <td>0</td>\n",
              "      <td>1</td>\n",
              "    </tr>\n",
              "    <tr>\n",
              "      <th>1</th>\n",
              "      <td>0.027322</td>\n",
              "      <td>m</td>\n",
              "      <td>Latino</td>\n",
              "      <td>yes</td>\n",
              "      <td>yes</td>\n",
              "      <td>Spain</td>\n",
              "      <td>0.8</td>\n",
              "      <td>Parent</td>\n",
              "      <td>1</td>\n",
              "      <td>1</td>\n",
              "      <td>0</td>\n",
              "      <td>1</td>\n",
              "      <td>1</td>\n",
              "      <td>0</td>\n",
              "      <td>1</td>\n",
              "      <td>1</td>\n",
              "      <td>1</td>\n",
              "      <td>1</td>\n",
              "    </tr>\n",
              "    <tr>\n",
              "      <th>2</th>\n",
              "      <td>0.049180</td>\n",
              "      <td>f</td>\n",
              "      <td>White-European</td>\n",
              "      <td>no</td>\n",
              "      <td>yes</td>\n",
              "      <td>'United States'</td>\n",
              "      <td>0.6</td>\n",
              "      <td>Self</td>\n",
              "      <td>1</td>\n",
              "      <td>1</td>\n",
              "      <td>0</td>\n",
              "      <td>1</td>\n",
              "      <td>0</td>\n",
              "      <td>0</td>\n",
              "      <td>1</td>\n",
              "      <td>1</td>\n",
              "      <td>0</td>\n",
              "      <td>1</td>\n",
              "    </tr>\n",
              "    <tr>\n",
              "      <th>4</th>\n",
              "      <td>0.051913</td>\n",
              "      <td>m</td>\n",
              "      <td>Others</td>\n",
              "      <td>yes</td>\n",
              "      <td>no</td>\n",
              "      <td>'United States'</td>\n",
              "      <td>0.9</td>\n",
              "      <td>Self</td>\n",
              "      <td>1</td>\n",
              "      <td>1</td>\n",
              "      <td>1</td>\n",
              "      <td>1</td>\n",
              "      <td>1</td>\n",
              "      <td>0</td>\n",
              "      <td>1</td>\n",
              "      <td>1</td>\n",
              "      <td>1</td>\n",
              "      <td>1</td>\n",
              "    </tr>\n",
              "    <tr>\n",
              "      <th>5</th>\n",
              "      <td>0.000000</td>\n",
              "      <td>f</td>\n",
              "      <td>Black</td>\n",
              "      <td>no</td>\n",
              "      <td>no</td>\n",
              "      <td>'United States'</td>\n",
              "      <td>0.2</td>\n",
              "      <td>Self</td>\n",
              "      <td>0</td>\n",
              "      <td>1</td>\n",
              "      <td>0</td>\n",
              "      <td>0</td>\n",
              "      <td>0</td>\n",
              "      <td>0</td>\n",
              "      <td>0</td>\n",
              "      <td>1</td>\n",
              "      <td>0</td>\n",
              "      <td>0</td>\n",
              "    </tr>\n",
              "  </tbody>\n",
              "</table>\n",
              "</div>\n",
              "      <button class=\"colab-df-convert\" onclick=\"convertToInteractive('df-8e8dd5db-0a12-4539-bf28-53f65a01062a')\"\n",
              "              title=\"Convert this dataframe to an interactive table.\"\n",
              "              style=\"display:none;\">\n",
              "        \n",
              "  <svg xmlns=\"http://www.w3.org/2000/svg\" height=\"24px\"viewBox=\"0 0 24 24\"\n",
              "       width=\"24px\">\n",
              "    <path d=\"M0 0h24v24H0V0z\" fill=\"none\"/>\n",
              "    <path d=\"M18.56 5.44l.94 2.06.94-2.06 2.06-.94-2.06-.94-.94-2.06-.94 2.06-2.06.94zm-11 1L8.5 8.5l.94-2.06 2.06-.94-2.06-.94L8.5 2.5l-.94 2.06-2.06.94zm10 10l.94 2.06.94-2.06 2.06-.94-2.06-.94-.94-2.06-.94 2.06-2.06.94z\"/><path d=\"M17.41 7.96l-1.37-1.37c-.4-.4-.92-.59-1.43-.59-.52 0-1.04.2-1.43.59L10.3 9.45l-7.72 7.72c-.78.78-.78 2.05 0 2.83L4 21.41c.39.39.9.59 1.41.59.51 0 1.02-.2 1.41-.59l7.78-7.78 2.81-2.81c.8-.78.8-2.07 0-2.86zM5.41 20L4 18.59l7.72-7.72 1.47 1.35L5.41 20z\"/>\n",
              "  </svg>\n",
              "      </button>\n",
              "      \n",
              "  <style>\n",
              "    .colab-df-container {\n",
              "      display:flex;\n",
              "      flex-wrap:wrap;\n",
              "      gap: 12px;\n",
              "    }\n",
              "\n",
              "    .colab-df-convert {\n",
              "      background-color: #E8F0FE;\n",
              "      border: none;\n",
              "      border-radius: 50%;\n",
              "      cursor: pointer;\n",
              "      display: none;\n",
              "      fill: #1967D2;\n",
              "      height: 32px;\n",
              "      padding: 0 0 0 0;\n",
              "      width: 32px;\n",
              "    }\n",
              "\n",
              "    .colab-df-convert:hover {\n",
              "      background-color: #E2EBFA;\n",
              "      box-shadow: 0px 1px 2px rgba(60, 64, 67, 0.3), 0px 1px 3px 1px rgba(60, 64, 67, 0.15);\n",
              "      fill: #174EA6;\n",
              "    }\n",
              "\n",
              "    [theme=dark] .colab-df-convert {\n",
              "      background-color: #3B4455;\n",
              "      fill: #D2E3FC;\n",
              "    }\n",
              "\n",
              "    [theme=dark] .colab-df-convert:hover {\n",
              "      background-color: #434B5C;\n",
              "      box-shadow: 0px 1px 3px 1px rgba(0, 0, 0, 0.15);\n",
              "      filter: drop-shadow(0px 1px 2px rgba(0, 0, 0, 0.3));\n",
              "      fill: #FFFFFF;\n",
              "    }\n",
              "  </style>\n",
              "\n",
              "      <script>\n",
              "        const buttonEl =\n",
              "          document.querySelector('#df-8e8dd5db-0a12-4539-bf28-53f65a01062a button.colab-df-convert');\n",
              "        buttonEl.style.display =\n",
              "          google.colab.kernel.accessAllowed ? 'block' : 'none';\n",
              "\n",
              "        async function convertToInteractive(key) {\n",
              "          const element = document.querySelector('#df-8e8dd5db-0a12-4539-bf28-53f65a01062a');\n",
              "          const dataTable =\n",
              "            await google.colab.kernel.invokeFunction('convertToInteractive',\n",
              "                                                     [key], {});\n",
              "          if (!dataTable) return;\n",
              "\n",
              "          const docLinkHtml = 'Like what you see? Visit the ' +\n",
              "            '<a target=\"_blank\" href=https://colab.research.google.com/notebooks/data_table.ipynb>data table notebook</a>'\n",
              "            + ' to learn more about interactive tables.';\n",
              "          element.innerHTML = '';\n",
              "          dataTable['output_type'] = 'display_data';\n",
              "          await google.colab.output.renderOutput(dataTable, element);\n",
              "          const docLink = document.createElement('div');\n",
              "          docLink.innerHTML = docLinkHtml;\n",
              "          element.appendChild(docLink);\n",
              "        }\n",
              "      </script>\n",
              "    </div>\n",
              "  </div>\n",
              "  "
            ]
          },
          "metadata": {}
        }
      ]
    },
    {
      "cell_type": "markdown",
      "source": [
        "One-Hot-Coding : Applying one-hot encoding to convert to ethinicity since it is categorial data."
      ],
      "metadata": {
        "id": "AMhRDpVDpXun"
      }
    },
    {
      "cell_type": "code",
      "source": [
        "#One-hot encode the 'features_minmax_transform' data using pandas.get_dummies()\n",
        "\n",
        "features_final = pd.get_dummies(features_minmax_transform)\n",
        "display(features_final.head(5))\n",
        "\n",
        "\n",
        "# Encode the 'all_classes_raw' data to numerical values\n",
        "asd_classes = asd_raw.apply(lambda x: 1 if x == 'YES' else 0)\n",
        "\n",
        "\n",
        "\n",
        "# Print the number of features after one-hot encoding\n",
        "encoded = list(features_final.columns)\n",
        "print(\"{} total features after one-hot encoding.\".format(len(encoded)))\n",
        "\n",
        "# Uncomment the following line to see the encoded feature names\n",
        "print(encoded)"
      ],
      "metadata": {
        "colab": {
          "base_uri": "https://localhost:8080/",
          "height": 369
        },
        "id": "RhmKS2vAAHJC",
        "outputId": "e995c8e5-8078-44b0-dc7c-5232d2f98db7"
      },
      "execution_count": 126,
      "outputs": [
        {
          "output_type": "display_data",
          "data": {
            "text/plain": [
              "        age  result  A1_Score  A2_Score  A3_Score  A4_Score  A5_Score  \\\n",
              "0  0.019126     0.5         1         1         0         1         0   \n",
              "1  0.027322     0.8         1         1         0         1         1   \n",
              "2  0.049180     0.6         1         1         0         1         0   \n",
              "4  0.051913     0.9         1         1         1         1         1   \n",
              "5  0.000000     0.2         0         1         0         0         0   \n",
              "\n",
              "   A6_Score  A7_Score  A8_Score  ...  contry_of_res_Sweden  \\\n",
              "0         0         0         1  ...                     0   \n",
              "1         0         1         1  ...                     0   \n",
              "2         0         1         1  ...                     0   \n",
              "4         0         1         1  ...                     0   \n",
              "5         0         0         1  ...                     0   \n",
              "\n",
              "   contry_of_res_Tonga  contry_of_res_Turkey  contry_of_res_Ukraine  \\\n",
              "0                    0                     0                      0   \n",
              "1                    0                     0                      0   \n",
              "2                    0                     0                      0   \n",
              "4                    0                     0                      0   \n",
              "5                    0                     0                      0   \n",
              "\n",
              "   contry_of_res_Uruguay  relation_'Health care professional'  \\\n",
              "0                      0                                    0   \n",
              "1                      0                                    0   \n",
              "2                      0                                    0   \n",
              "4                      0                                    0   \n",
              "5                      0                                    0   \n",
              "\n",
              "   relation_Others  relation_Parent  relation_Relative  relation_Self  \n",
              "0                0                0                  0              1  \n",
              "1                0                1                  0              0  \n",
              "2                0                0                  0              1  \n",
              "4                0                0                  0              1  \n",
              "5                0                0                  0              1  \n",
              "\n",
              "[5 rows x 94 columns]"
            ],
            "text/html": [
              "\n",
              "  <div id=\"df-eaca34a6-c605-4d64-8916-76a6f8d87522\">\n",
              "    <div class=\"colab-df-container\">\n",
              "      <div>\n",
              "<style scoped>\n",
              "    .dataframe tbody tr th:only-of-type {\n",
              "        vertical-align: middle;\n",
              "    }\n",
              "\n",
              "    .dataframe tbody tr th {\n",
              "        vertical-align: top;\n",
              "    }\n",
              "\n",
              "    .dataframe thead th {\n",
              "        text-align: right;\n",
              "    }\n",
              "</style>\n",
              "<table border=\"1\" class=\"dataframe\">\n",
              "  <thead>\n",
              "    <tr style=\"text-align: right;\">\n",
              "      <th></th>\n",
              "      <th>age</th>\n",
              "      <th>result</th>\n",
              "      <th>A1_Score</th>\n",
              "      <th>A2_Score</th>\n",
              "      <th>A3_Score</th>\n",
              "      <th>A4_Score</th>\n",
              "      <th>A5_Score</th>\n",
              "      <th>A6_Score</th>\n",
              "      <th>A7_Score</th>\n",
              "      <th>A8_Score</th>\n",
              "      <th>...</th>\n",
              "      <th>contry_of_res_Sweden</th>\n",
              "      <th>contry_of_res_Tonga</th>\n",
              "      <th>contry_of_res_Turkey</th>\n",
              "      <th>contry_of_res_Ukraine</th>\n",
              "      <th>contry_of_res_Uruguay</th>\n",
              "      <th>relation_'Health care professional'</th>\n",
              "      <th>relation_Others</th>\n",
              "      <th>relation_Parent</th>\n",
              "      <th>relation_Relative</th>\n",
              "      <th>relation_Self</th>\n",
              "    </tr>\n",
              "  </thead>\n",
              "  <tbody>\n",
              "    <tr>\n",
              "      <th>0</th>\n",
              "      <td>0.019126</td>\n",
              "      <td>0.5</td>\n",
              "      <td>1</td>\n",
              "      <td>1</td>\n",
              "      <td>0</td>\n",
              "      <td>1</td>\n",
              "      <td>0</td>\n",
              "      <td>0</td>\n",
              "      <td>0</td>\n",
              "      <td>1</td>\n",
              "      <td>...</td>\n",
              "      <td>0</td>\n",
              "      <td>0</td>\n",
              "      <td>0</td>\n",
              "      <td>0</td>\n",
              "      <td>0</td>\n",
              "      <td>0</td>\n",
              "      <td>0</td>\n",
              "      <td>0</td>\n",
              "      <td>0</td>\n",
              "      <td>1</td>\n",
              "    </tr>\n",
              "    <tr>\n",
              "      <th>1</th>\n",
              "      <td>0.027322</td>\n",
              "      <td>0.8</td>\n",
              "      <td>1</td>\n",
              "      <td>1</td>\n",
              "      <td>0</td>\n",
              "      <td>1</td>\n",
              "      <td>1</td>\n",
              "      <td>0</td>\n",
              "      <td>1</td>\n",
              "      <td>1</td>\n",
              "      <td>...</td>\n",
              "      <td>0</td>\n",
              "      <td>0</td>\n",
              "      <td>0</td>\n",
              "      <td>0</td>\n",
              "      <td>0</td>\n",
              "      <td>0</td>\n",
              "      <td>0</td>\n",
              "      <td>1</td>\n",
              "      <td>0</td>\n",
              "      <td>0</td>\n",
              "    </tr>\n",
              "    <tr>\n",
              "      <th>2</th>\n",
              "      <td>0.049180</td>\n",
              "      <td>0.6</td>\n",
              "      <td>1</td>\n",
              "      <td>1</td>\n",
              "      <td>0</td>\n",
              "      <td>1</td>\n",
              "      <td>0</td>\n",
              "      <td>0</td>\n",
              "      <td>1</td>\n",
              "      <td>1</td>\n",
              "      <td>...</td>\n",
              "      <td>0</td>\n",
              "      <td>0</td>\n",
              "      <td>0</td>\n",
              "      <td>0</td>\n",
              "      <td>0</td>\n",
              "      <td>0</td>\n",
              "      <td>0</td>\n",
              "      <td>0</td>\n",
              "      <td>0</td>\n",
              "      <td>1</td>\n",
              "    </tr>\n",
              "    <tr>\n",
              "      <th>4</th>\n",
              "      <td>0.051913</td>\n",
              "      <td>0.9</td>\n",
              "      <td>1</td>\n",
              "      <td>1</td>\n",
              "      <td>1</td>\n",
              "      <td>1</td>\n",
              "      <td>1</td>\n",
              "      <td>0</td>\n",
              "      <td>1</td>\n",
              "      <td>1</td>\n",
              "      <td>...</td>\n",
              "      <td>0</td>\n",
              "      <td>0</td>\n",
              "      <td>0</td>\n",
              "      <td>0</td>\n",
              "      <td>0</td>\n",
              "      <td>0</td>\n",
              "      <td>0</td>\n",
              "      <td>0</td>\n",
              "      <td>0</td>\n",
              "      <td>1</td>\n",
              "    </tr>\n",
              "    <tr>\n",
              "      <th>5</th>\n",
              "      <td>0.000000</td>\n",
              "      <td>0.2</td>\n",
              "      <td>0</td>\n",
              "      <td>1</td>\n",
              "      <td>0</td>\n",
              "      <td>0</td>\n",
              "      <td>0</td>\n",
              "      <td>0</td>\n",
              "      <td>0</td>\n",
              "      <td>1</td>\n",
              "      <td>...</td>\n",
              "      <td>0</td>\n",
              "      <td>0</td>\n",
              "      <td>0</td>\n",
              "      <td>0</td>\n",
              "      <td>0</td>\n",
              "      <td>0</td>\n",
              "      <td>0</td>\n",
              "      <td>0</td>\n",
              "      <td>0</td>\n",
              "      <td>1</td>\n",
              "    </tr>\n",
              "  </tbody>\n",
              "</table>\n",
              "<p>5 rows × 94 columns</p>\n",
              "</div>\n",
              "      <button class=\"colab-df-convert\" onclick=\"convertToInteractive('df-eaca34a6-c605-4d64-8916-76a6f8d87522')\"\n",
              "              title=\"Convert this dataframe to an interactive table.\"\n",
              "              style=\"display:none;\">\n",
              "        \n",
              "  <svg xmlns=\"http://www.w3.org/2000/svg\" height=\"24px\"viewBox=\"0 0 24 24\"\n",
              "       width=\"24px\">\n",
              "    <path d=\"M0 0h24v24H0V0z\" fill=\"none\"/>\n",
              "    <path d=\"M18.56 5.44l.94 2.06.94-2.06 2.06-.94-2.06-.94-.94-2.06-.94 2.06-2.06.94zm-11 1L8.5 8.5l.94-2.06 2.06-.94-2.06-.94L8.5 2.5l-.94 2.06-2.06.94zm10 10l.94 2.06.94-2.06 2.06-.94-2.06-.94-.94-2.06-.94 2.06-2.06.94z\"/><path d=\"M17.41 7.96l-1.37-1.37c-.4-.4-.92-.59-1.43-.59-.52 0-1.04.2-1.43.59L10.3 9.45l-7.72 7.72c-.78.78-.78 2.05 0 2.83L4 21.41c.39.39.9.59 1.41.59.51 0 1.02-.2 1.41-.59l7.78-7.78 2.81-2.81c.8-.78.8-2.07 0-2.86zM5.41 20L4 18.59l7.72-7.72 1.47 1.35L5.41 20z\"/>\n",
              "  </svg>\n",
              "      </button>\n",
              "      \n",
              "  <style>\n",
              "    .colab-df-container {\n",
              "      display:flex;\n",
              "      flex-wrap:wrap;\n",
              "      gap: 12px;\n",
              "    }\n",
              "\n",
              "    .colab-df-convert {\n",
              "      background-color: #E8F0FE;\n",
              "      border: none;\n",
              "      border-radius: 50%;\n",
              "      cursor: pointer;\n",
              "      display: none;\n",
              "      fill: #1967D2;\n",
              "      height: 32px;\n",
              "      padding: 0 0 0 0;\n",
              "      width: 32px;\n",
              "    }\n",
              "\n",
              "    .colab-df-convert:hover {\n",
              "      background-color: #E2EBFA;\n",
              "      box-shadow: 0px 1px 2px rgba(60, 64, 67, 0.3), 0px 1px 3px 1px rgba(60, 64, 67, 0.15);\n",
              "      fill: #174EA6;\n",
              "    }\n",
              "\n",
              "    [theme=dark] .colab-df-convert {\n",
              "      background-color: #3B4455;\n",
              "      fill: #D2E3FC;\n",
              "    }\n",
              "\n",
              "    [theme=dark] .colab-df-convert:hover {\n",
              "      background-color: #434B5C;\n",
              "      box-shadow: 0px 1px 3px 1px rgba(0, 0, 0, 0.15);\n",
              "      filter: drop-shadow(0px 1px 2px rgba(0, 0, 0, 0.3));\n",
              "      fill: #FFFFFF;\n",
              "    }\n",
              "  </style>\n",
              "\n",
              "      <script>\n",
              "        const buttonEl =\n",
              "          document.querySelector('#df-eaca34a6-c605-4d64-8916-76a6f8d87522 button.colab-df-convert');\n",
              "        buttonEl.style.display =\n",
              "          google.colab.kernel.accessAllowed ? 'block' : 'none';\n",
              "\n",
              "        async function convertToInteractive(key) {\n",
              "          const element = document.querySelector('#df-eaca34a6-c605-4d64-8916-76a6f8d87522');\n",
              "          const dataTable =\n",
              "            await google.colab.kernel.invokeFunction('convertToInteractive',\n",
              "                                                     [key], {});\n",
              "          if (!dataTable) return;\n",
              "\n",
              "          const docLinkHtml = 'Like what you see? Visit the ' +\n",
              "            '<a target=\"_blank\" href=https://colab.research.google.com/notebooks/data_table.ipynb>data table notebook</a>'\n",
              "            + ' to learn more about interactive tables.';\n",
              "          element.innerHTML = '';\n",
              "          dataTable['output_type'] = 'display_data';\n",
              "          await google.colab.output.renderOutput(dataTable, element);\n",
              "          const docLink = document.createElement('div');\n",
              "          docLink.innerHTML = docLinkHtml;\n",
              "          element.appendChild(docLink);\n",
              "        }\n",
              "      </script>\n",
              "    </div>\n",
              "  </div>\n",
              "  "
            ]
          },
          "metadata": {}
        },
        {
          "output_type": "stream",
          "name": "stdout",
          "text": [
            "94 total features after one-hot encoding.\n",
            "['age', 'result', 'A1_Score', 'A2_Score', 'A3_Score', 'A4_Score', 'A5_Score', 'A6_Score', 'A7_Score', 'A8_Score', 'A9_Score', 'A10_Score', 'gender_f', 'gender_m', \"ethnicity_'Middle Eastern '\", \"ethnicity_'South Asian'\", 'ethnicity_Asian', 'ethnicity_Black', 'ethnicity_Hispanic', 'ethnicity_Latino', 'ethnicity_Others', 'ethnicity_Pasifika', 'ethnicity_Turkish', 'ethnicity_White-European', 'ethnicity_others', 'jundice_no', 'jundice_yes', 'austim_no', 'austim_yes', \"contry_of_res_'Costa Rica'\", \"contry_of_res_'Czech Republic'\", \"contry_of_res_'New Zealand'\", \"contry_of_res_'Saudi Arabia'\", \"contry_of_res_'Sierra Leone'\", \"contry_of_res_'South Africa'\", \"contry_of_res_'Sri Lanka'\", \"contry_of_res_'United Arab Emirates'\", \"contry_of_res_'United Kingdom'\", \"contry_of_res_'United States'\", \"contry_of_res_'Viet Nam'\", 'contry_of_res_Afghanistan', 'contry_of_res_AmericanSamoa', 'contry_of_res_Angola', 'contry_of_res_Armenia', 'contry_of_res_Aruba', 'contry_of_res_Australia', 'contry_of_res_Austria', 'contry_of_res_Bahamas', 'contry_of_res_Bangladesh', 'contry_of_res_Belgium', 'contry_of_res_Bolivia', 'contry_of_res_Brazil', 'contry_of_res_Burundi', 'contry_of_res_Canada', 'contry_of_res_Chile', 'contry_of_res_China', 'contry_of_res_Cyprus', 'contry_of_res_Ecuador', 'contry_of_res_Egypt', 'contry_of_res_Ethiopia', 'contry_of_res_Finland', 'contry_of_res_France', 'contry_of_res_Germany', 'contry_of_res_Iceland', 'contry_of_res_India', 'contry_of_res_Indonesia', 'contry_of_res_Iran', 'contry_of_res_Ireland', 'contry_of_res_Italy', 'contry_of_res_Jordan', 'contry_of_res_Malaysia', 'contry_of_res_Mexico', 'contry_of_res_Nepal', 'contry_of_res_Netherlands', 'contry_of_res_Nicaragua', 'contry_of_res_Niger', 'contry_of_res_Oman', 'contry_of_res_Pakistan', 'contry_of_res_Philippines', 'contry_of_res_Portugal', 'contry_of_res_Romania', 'contry_of_res_Russia', 'contry_of_res_Serbia', 'contry_of_res_Spain', 'contry_of_res_Sweden', 'contry_of_res_Tonga', 'contry_of_res_Turkey', 'contry_of_res_Ukraine', 'contry_of_res_Uruguay', \"relation_'Health care professional'\", 'relation_Others', 'relation_Parent', 'relation_Relative', 'relation_Self']\n"
          ]
        }
      ]
    },
    {
      "cell_type": "code",
      "source": [
        "# histogram of Class/ASD\n",
        "\n",
        "# 8 bins\n",
        "plt.hist(asd_classes, bins=10)\n",
        "\n",
        "# x-axis limit from 0 to 1\n",
        "plt.xlim(0,1)\n",
        "plt.title('Histogram of Class/ASD')\n",
        "plt.xlabel('Class/ASD from processed data')\n",
        "plt.ylabel('Frequency')"
      ],
      "metadata": {
        "colab": {
          "base_uri": "https://localhost:8080/",
          "height": 318
        },
        "id": "iORNvrFzA1IA",
        "outputId": "8edc3e5f-4fcd-4118-a032-a3a9a1174361"
      },
      "execution_count": 127,
      "outputs": [
        {
          "output_type": "execute_result",
          "data": {
            "text/plain": [
              "Text(0, 0.5, 'Frequency')"
            ]
          },
          "metadata": {},
          "execution_count": 127
        },
        {
          "output_type": "display_data",
          "data": {
            "text/plain": [
              "<Figure size 432x288 with 1 Axes>"
            ],
            "image/png": "[encoded data removed]"
          },
          "metadata": {}
        }
      ]
    },
    {
      "cell_type": "markdown",
      "source": [
        "Shuffle And split data"
      ],
      "metadata": {
        "id": "BUyfCiNNpkAt"
      }
    },
    {
      "cell_type": "code",
      "source": [
        "from sklearn.model_selection import train_test_split\n",
        "\n",
        "np.random.seed(1234)\n",
        "\n",
        "X_train, X_test, y_train, y_test = train_test_split(features_final, asd_classes, train_size=0.80, random_state=1)\n",
        "\n",
        "\n",
        "# Show the results of the split\n",
        "print(\"Training set has {} samples.\".format(X_train.shape[0]))\n",
        "print(\"Testing set has {} samples.\".format(X_test.shape[0]))\n",
        "#asd_data"
      ],
      "metadata": {
        "colab": {
          "base_uri": "https://localhost:8080/"
        },
        "id": "hJVme-XSBBtn",
        "outputId": "a9fdf2f1-4bf7-4e77-e2d9-846889c4001e"
      },
      "execution_count": 128,
      "outputs": [
        {
          "output_type": "stream",
          "name": "stdout",
          "text": [
            "Training set has 486 samples.\n",
            "Testing set has 122 samples.\n"
          ]
        }
      ]
    },
    {
      "cell_type": "markdown",
      "source": [
        "Step 3: Models"
      ],
      "metadata": {
        "id": "m1LYjSampnyB"
      }
    },
    {
      "cell_type": "markdown",
      "source": [
        "Supervised Learning Models\n",
        "Applied the following supervised learning models in this project which are currently available in scikit-learn.\n",
        "\n",
        "(1): Decision Trees\n",
        "\n",
        "(2) Random Forest\n",
        "\n",
        "(3) Support Vector Machines (SVM)\n",
        "\n",
        "(4) K-Nearest Neighbors (KNeighbors)\n",
        "\n",
        "(5) Gaussian Naive Bayes (GaussianNB)\n",
        "\n",
        "(6) Logistic Regression"
      ],
      "metadata": {
        "id": "uAj3PhnDpreJ"
      }
    },
    {
      "cell_type": "markdown",
      "source": [
        "Applying models one after another"
      ],
      "metadata": {
        "id": "dsig6LMrqJUO"
      }
    },
    {
      "cell_type": "markdown",
      "source": [
        "1) Decision Tree"
      ],
      "metadata": {
        "id": "G7bnTJ3n3R8x"
      }
    },
    {
      "cell_type": "code",
      "source": [
        "from sklearn import tree\n",
        "from sklearn.tree import DecisionTreeClassifier\n",
        "\n",
        "dectree = DecisionTreeClassifier(random_state=1)\n",
        "\n",
        "# Train the classifier on the training set\n",
        "dectree.fit(X_train, y_train)"
      ],
      "metadata": {
        "colab": {
          "base_uri": "https://localhost:8080/"
        },
        "id": "rv5lKN5JBG7s",
        "outputId": "3923598b-a780-48fc-fd2b-83703af26d8c"
      },
      "execution_count": 129,
      "outputs": [
        {
          "output_type": "execute_result",
          "data": {
            "text/plain": [
              "DecisionTreeClassifier(random_state=1)"
            ]
          },
          "metadata": {},
          "execution_count": 129
        }
      ]
    },
    {
      "cell_type": "markdown",
      "source": [
        "Depiction of Decision Tree"
      ],
      "metadata": {
        "id": "wrzKWCfGqQ_R"
      }
    },
    {
      "cell_type": "code",
      "source": [
        "import pydotplus \n",
        "\n",
        "\n",
        "dot_data = tree.export_graphviz(dectree,\n",
        "                                out_file=None,\n",
        "                                filled=True,\n",
        "                                rounded=True,\n",
        "                                special_characters=True)  \n",
        "graph = pydotplus.graph_from_dot_data(dot_data)  \n",
        "\n",
        "from IPython.display import Image \n",
        "Image(graph.create_png())"
      ],
      "metadata": {
        "colab": {
          "base_uri": "https://localhost:8080/",
          "height": 232
        },
        "id": "MC2ibKnm3ZkC",
        "outputId": "58a6dc28-cbfc-467f-9a4e-78013746b1a2"
      },
      "execution_count": 130,
      "outputs": [
        {
          "output_type": "execute_result",
          "data": {
            "image/png": "[encoded data removed]",
            "text/plain": [
              "<IPython.core.display.Image object>"
            ]
          },
          "metadata": {},
          "execution_count": 130
        }
      ]
    },
    {
      "cell_type": "markdown",
      "source": [
        "# Evaluating Model Performance Metrics\n",
        "\n",
        "We can use F-beta score as a metric that considers both precision and recall:\n",
        "\n",
        " \n",
        "In particular, when , more emphasis is placed on precision. This is called the F score (or F-score for simplicity).\n",
        "\n",
        "Note: \n",
        "** Accuracy ** measures how often the classifier makes the correct prediction. It’s the ratio of the number of correct predictions to the total number of predictions (the number of test data points).\n",
        "\n",
        "** Precision ** tells us what proportion of messages we classified as spam, actually were spam. It is a ratio of true positives(words classified as spam, and which are actually spam) to all positives(all words classified as spam, irrespective of whether that was the correct classificatio), in other words it is the ratio of\n",
        "\n",
        "[True Positives/(True Positives + False Positives)]\n",
        "\n",
        "** Recall (sensitivity)** tells us what proportion of messages that actually were spam were classified by us as spam. It is a ratio of true positives(words classified as spam, and which are actually spam) to all the words that were actually spam, in other words it is the ratio of\n",
        "\n",
        "[True Positives/(True Positives + False Negatives)]\n",
        "\n",
        "For classification problems that are skewed in their classification distributions like in our case where we have\n",
        "\n",
        "a total of 609 records with\n",
        "180 individuals diagonised with ASD and\n",
        "429 individuals not diagonised with ASD\n",
        "accuracy by itself is not a very good metric. Thus, in this case precision and recall come in very handy. These two metrics can be combined to get the F1 score, which is weighted average(harmonic mean) of the precision and recall scores. This score can range from 0 to 1, with 1 being the best possible F1 score(we take the harmonic mean as we are dealing with ratios)."
      ],
      "metadata": {
        "id": "a627SCwZqagl"
      }
    },
    {
      "cell_type": "code",
      "source": [
        "# make class predictions for the testing set\n",
        "y_pred_class = dectree.predict(X_test)"
      ],
      "metadata": {
        "id": "np0gMlRR3mLK"
      },
      "execution_count": 131,
      "outputs": []
    },
    {
      "cell_type": "code",
      "source": [
        "# print the first 25 true and predicted responses\n",
        "print('True:', y_test.values[0:25])\n",
        "print('False:', y_pred_class[0:25])"
      ],
      "metadata": {
        "colab": {
          "base_uri": "https://localhost:8080/"
        },
        "id": "UmvgFlt_3pZs",
        "outputId": "fa56c9ee-6ac0-4b3e-88c4-ac81d8d0629a"
      },
      "execution_count": 132,
      "outputs": [
        {
          "output_type": "stream",
          "name": "stdout",
          "text": [
            "True: [1 0 0 0 0 0 0 0 0 0 0 0 1 0 1 0 0 0 0 1 1 1 0 0 0]\n",
            "False: [1 0 0 0 0 0 0 0 0 0 0 0 1 0 1 0 0 0 0 1 1 1 0 0 0]\n"
          ]
        }
      ]
    },
    {
      "cell_type": "code",
      "source": [
        "from sklearn import metrics\n",
        "# IMPORTANT: first argument is true values, second argument is predicted values\n",
        "# this produces a 2x2 numpy array (matrix)\n",
        "#print(metrics.confusion_matrix(y_test, y_pred_class))\n",
        "\n",
        "# save confusion matrix and slice into four pieces\n",
        "confusion = metrics.confusion_matrix(y_test, y_pred_class)\n",
        "print(confusion)\n",
        "#[row, column]\n",
        "TP = confusion[1, 1]\n",
        "TN = confusion[0, 0]\n",
        "FP = confusion[0, 1]\n",
        "FN = confusion[1, 0]"
      ],
      "metadata": {
        "colab": {
          "base_uri": "https://localhost:8080/"
        },
        "id": "-WEKImYO3sp5",
        "outputId": "1d49beb8-7cd4-40bd-ca07-8691aa7edffb"
      },
      "execution_count": 133,
      "outputs": [
        {
          "output_type": "stream",
          "name": "stdout",
          "text": [
            "[[80  0]\n",
            " [ 0 42]]\n"
          ]
        }
      ]
    },
    {
      "cell_type": "markdown",
      "source": [
        "# Metrics computed from a confusion matrix\n",
        "Classification Accuracy:"
      ],
      "metadata": {
        "id": "r_CWbhNhqunp"
      }
    },
    {
      "cell_type": "code",
      "source": [
        "# use float to perform true division, not integer division\n",
        "print(f'Classification Accuracy: {((TP + TN) / float(TP + TN + FP + FN))}')"
      ],
      "metadata": {
        "colab": {
          "base_uri": "https://localhost:8080/"
        },
        "id": "JKdh_KyS3uL1",
        "outputId": "a2cc4a8e-cee4-4eb7-e828-9987581db28b"
      },
      "execution_count": 134,
      "outputs": [
        {
          "output_type": "stream",
          "name": "stdout",
          "text": [
            "Classification Accuracy: 1.0\n"
          ]
        }
      ]
    },
    {
      "cell_type": "markdown",
      "source": [
        "Classification Error"
      ],
      "metadata": {
        "id": "pKo3ZPmurEPe"
      }
    },
    {
      "cell_type": "code",
      "source": [
        "classification_error = (FP + FN) / float(TP + TN + FP + FN)\n",
        "\n",
        "print(f'Classification Error: {classification_error}')\n"
      ],
      "metadata": {
        "colab": {
          "base_uri": "https://localhost:8080/"
        },
        "id": "dLtUa4Z13x4p",
        "outputId": "f98e4fe0-d60c-4316-ced1-3c63fc500d11"
      },
      "execution_count": 135,
      "outputs": [
        {
          "output_type": "stream",
          "name": "stdout",
          "text": [
            "Classification Error: 0.0\n"
          ]
        }
      ]
    },
    {
      "cell_type": "markdown",
      "source": [
        "Sensitivity"
      ],
      "metadata": {
        "id": "vLrpekY73395"
      }
    },
    {
      "cell_type": "code",
      "source": [
        "sensitivity = TP / float(FN + TP)\n",
        "\n",
        "print(f'Sensitivity: {sensitivity}')\n",
        "print(f'Recall score: {metrics.recall_score(y_test, y_pred_class)}')"
      ],
      "metadata": {
        "colab": {
          "base_uri": "https://localhost:8080/"
        },
        "id": "_Gg0W3yh32Ls",
        "outputId": "96b460f1-9cd4-4e54-a3f3-b424e3d67b53"
      },
      "execution_count": 136,
      "outputs": [
        {
          "output_type": "stream",
          "name": "stdout",
          "text": [
            "Sensitivity: 1.0\n",
            "Recall score: 1.0\n"
          ]
        }
      ]
    },
    {
      "cell_type": "markdown",
      "source": [
        "Specificity"
      ],
      "metadata": {
        "id": "-8jh8HITrjJS"
      }
    },
    {
      "cell_type": "code",
      "source": [
        "specificity = TN / (TN + FP)\n",
        "\n",
        "print(f'Specificity: {specificity}')"
      ],
      "metadata": {
        "colab": {
          "base_uri": "https://localhost:8080/"
        },
        "id": "FSk5wQT-4A0i",
        "outputId": "940ab0ac-0a64-435a-b0e7-bbefee3753c9"
      },
      "execution_count": 137,
      "outputs": [
        {
          "output_type": "stream",
          "name": "stdout",
          "text": [
            "Specificity: 1.0\n"
          ]
        }
      ]
    },
    {
      "cell_type": "markdown",
      "source": [
        "Precision"
      ],
      "metadata": {
        "id": "F-9v2P2a4LU8"
      }
    },
    {
      "cell_type": "code",
      "source": [
        "precision = TP / float(TP + FP)\n",
        "\n",
        "#print(precision)\n",
        "print(f'Precision: {metrics.precision_score(y_test, y_pred_class)}')"
      ],
      "metadata": {
        "colab": {
          "base_uri": "https://localhost:8080/"
        },
        "id": "Q6TycDGi4KM-",
        "outputId": "e43285fe-44e8-4841-f80a-59c3f67b0117"
      },
      "execution_count": 138,
      "outputs": [
        {
          "output_type": "stream",
          "name": "stdout",
          "text": [
            "Precision: 1.0\n"
          ]
        }
      ]
    },
    {
      "cell_type": "markdown",
      "source": [
        "# Visualising classification prediction"
      ],
      "metadata": {
        "id": "2DauJnyjr9Fe"
      }
    },
    {
      "cell_type": "code",
      "source": [
        "dectree.predict(X_test)[0:10]"
      ],
      "metadata": {
        "colab": {
          "base_uri": "https://localhost:8080/"
        },
        "id": "fxVnsFi54Qvk",
        "outputId": "3dbb9a3a-3fc9-4db2-a349-87fc22f843f5"
      },
      "execution_count": 139,
      "outputs": [
        {
          "output_type": "execute_result",
          "data": {
            "text/plain": [
              "array([1, 0, 0, 0, 0, 0, 0, 0, 0, 0])"
            ]
          },
          "metadata": {},
          "execution_count": 139
        }
      ]
    },
    {
      "cell_type": "code",
      "source": [
        "# store the predicted probabilities for class 1\n",
        "y_pred_prob = dectree.predict_proba(X_test)[:, 1]"
      ],
      "metadata": {
        "id": "TGzV9qUs4U5U"
      },
      "execution_count": 140,
      "outputs": []
    },
    {
      "cell_type": "code",
      "source": [
        "import matplotlib.pyplot as plt\n",
        "\n",
        "# adjust the font size \n",
        "plt.rcParams['font.size'] = 12"
      ],
      "metadata": {
        "id": "3XA56qqf4auN"
      },
      "execution_count": 141,
      "outputs": []
    },
    {
      "cell_type": "code",
      "source": [
        "# histogram of predicted probabilities\n",
        "\n",
        "# 8 bins\n",
        "plt.hist(y_pred_prob, bins=10)\n",
        "\n",
        "# x-axis limit from 0 to 1\n",
        "plt.xlim(0,1)\n",
        "plt.title('Histogram of predicted probabilities')\n",
        "plt.xlabel('Predicted probability of ASD')\n",
        "plt.ylabel('Frequency')"
      ],
      "metadata": {
        "id": "bCnDg0ry4ek9",
        "colab": {
          "base_uri": "https://localhost:8080/",
          "height": 318
        },
        "outputId": "c6ecfeef-d1dc-4c1b-ae43-b5c7a86d2e66"
      },
      "execution_count": 142,
      "outputs": [
        {
          "output_type": "execute_result",
          "data": {
            "text/plain": [
              "Text(0, 0.5, 'Frequency')"
            ]
          },
          "metadata": {},
          "execution_count": 142
        },
        {
          "output_type": "display_data",
          "data": {
            "text/plain": [
              "<Figure size 432x288 with 1 Axes>"
            ],
            "image/png": "[encoded data removed]"
          },
          "metadata": {}
        }
      ]
    },
    {
      "cell_type": "markdown",
      "source": [
        "# Receiver Operating Characteristic (ROC) Curves\n",
        "Checking how sensitivity and specificity are affected by different thresholds."
      ],
      "metadata": {
        "id": "BXrIoYeJsc4X"
      }
    },
    {
      "cell_type": "code",
      "source": [
        "# IMPORTANT: first argument is true values, second argument is predicted probabilities\n",
        "\n",
        "# we pass y_test and y_pred_prob\n",
        "# we do not use y_pred_class, because it will give incorrect results without generating an error\n",
        "# roc_curve returns 3 objects fpr, tpr, thresholds\n",
        "# fpr: false positive rate\n",
        "# tpr: true positive rate\n",
        "fpr, tpr, thresholds = metrics.roc_curve(y_test, y_pred_prob)\n",
        "\n",
        "plt.plot(fpr, tpr)\n",
        "plt.xlim([0.0, 1.0])\n",
        "plt.ylim([0.0, 1.0])\n",
        "plt.rcParams['font.size'] = 12\n",
        "plt.title('ROC curve for diabetes classifier')\n",
        "plt.xlabel('False Positive Rate (1 - Specificity)')\n",
        "plt.ylabel('True Positive Rate (Sensitivity)')\n",
        "plt.grid(True)"
      ],
      "metadata": {
        "colab": {
          "base_uri": "https://localhost:8080/",
          "height": 301
        },
        "id": "xmUOXAMHYfSx",
        "outputId": "4b01cbd2-a2cf-4ed6-9ecf-cae69bdeba87"
      },
      "execution_count": 143,
      "outputs": [
        {
          "output_type": "display_data",
          "data": {
            "text/plain": [
              "<Figure size 432x288 with 1 Axes>"
            ],
            "image/png": "[encoded data removed]"
          },
          "metadata": {}
        }
      ]
    },
    {
      "cell_type": "markdown",
      "source": [
        "Score metric for Model performance"
      ],
      "metadata": {
        "id": "4Xmei1iksmrO"
      }
    },
    {
      "cell_type": "code",
      "source": [
        "dectree.score(X_test, y_test)"
      ],
      "metadata": {
        "colab": {
          "base_uri": "https://localhost:8080/"
        },
        "id": "eSmUZEI5Yp8U",
        "outputId": "cace1108-2914-413b-fae3-2581099d4fee"
      },
      "execution_count": 144,
      "outputs": [
        {
          "output_type": "execute_result",
          "data": {
            "text/plain": [
              "1.0"
            ]
          },
          "metadata": {},
          "execution_count": 144
        }
      ]
    },
    {
      "cell_type": "markdown",
      "source": [
        "Cross-validation: Using k-cross validation instead of splitting. (k = 10)"
      ],
      "metadata": {
        "id": "SctiKMeosqif"
      }
    },
    {
      "cell_type": "code",
      "source": [
        "from sklearn.model_selection import cross_val_score\n",
        "\n",
        "dectree = DecisionTreeClassifier(random_state=1)\n",
        "\n",
        "cv_scores = cross_val_score(dectree, features_final, asd_classes, cv=10)\n",
        "\n",
        "print(f'Cross validation score: {cv_scores.mean()}')"
      ],
      "metadata": {
        "colab": {
          "base_uri": "https://localhost:8080/"
        },
        "id": "xmDCZiqGYq-h",
        "outputId": "21f57f0d-c6d8-429f-b717-410c018bf0d8"
      },
      "execution_count": 145,
      "outputs": [
        {
          "output_type": "stream",
          "name": "stdout",
          "text": [
            "Cross validation score: 1.0\n"
          ]
        }
      ]
    },
    {
      "cell_type": "markdown",
      "source": [
        "AUC score: Percentage of ROC plot under the curve"
      ],
      "metadata": {
        "id": "B8qnqMp6s7ka"
      }
    },
    {
      "cell_type": "code",
      "source": [
        "# calculate cross-validated AUC\n",
        "print('AUC Score')\n",
        "print(cross_val_score(dectree, features_final, asd_classes, cv=10, scoring='roc_auc').mean())"
      ],
      "metadata": {
        "colab": {
          "base_uri": "https://localhost:8080/"
        },
        "id": "hIDwXw4XtIoN",
        "outputId": "d361fdd4-f114-46a7-e348-8e0df3b1c999"
      },
      "execution_count": 146,
      "outputs": [
        {
          "output_type": "stream",
          "name": "stdout",
          "text": [
            "AUC Score\n",
            "1.0\n"
          ]
        }
      ]
    },
    {
      "cell_type": "markdown",
      "source": [
        "F-beta Score:"
      ],
      "metadata": {
        "id": "678yxDWhtlDB"
      }
    },
    {
      "cell_type": "code",
      "source": [
        "dectree.fit(X_train, y_train)\n",
        "from sklearn.metrics import fbeta_score\n",
        "predictions_test = dectree.predict(X_test)\n",
        "print('F-Beta Score')\n",
        "print(fbeta_score(y_test, predictions_test, average='binary', beta=0.5))"
      ],
      "metadata": {
        "colab": {
          "base_uri": "https://localhost:8080/"
        },
        "id": "tcukJprTYtlS",
        "outputId": "c5ffb154-f187-422f-bee2-479cad39ed6d"
      },
      "execution_count": 147,
      "outputs": [
        {
          "output_type": "stream",
          "name": "stdout",
          "text": [
            "F-Beta Score\n",
            "1.0\n"
          ]
        }
      ]
    },
    {
      "cell_type": "markdown",
      "source": [
        "2)Random Forest Classifier"
      ],
      "metadata": {
        "id": "dwRiqOKFeTKf"
      }
    },
    {
      "cell_type": "code",
      "source": [
        "from sklearn.ensemble import RandomForestClassifier\n",
        "\n",
        "ranfor = RandomForestClassifier(n_estimators=5, random_state=1)\n",
        "cv_scores = cross_val_score(ranfor, features_final, asd_classes, cv=10)\n",
        "print(f'Cross validation score: {cv_scores.mean()}')"
      ],
      "metadata": {
        "colab": {
          "base_uri": "https://localhost:8080/"
        },
        "id": "NGzqg7BjZKTS",
        "outputId": "c50c1205-ff8d-45d5-87bb-b1fb25abd495"
      },
      "execution_count": 148,
      "outputs": [
        {
          "output_type": "stream",
          "name": "stdout",
          "text": [
            "Cross validation score: 0.9983606557377049\n"
          ]
        }
      ]
    },
    {
      "cell_type": "markdown",
      "source": [
        "AUC score: Percentage of ROC plot under the curve"
      ],
      "metadata": {
        "id": "gWmYnuZOuArX"
      }
    },
    {
      "cell_type": "code",
      "source": [
        "# calculate cross-validated AUC\n",
        "print('AUC Score')\n",
        "print(cross_val_score(dectree, features_final, asd_classes, cv=10, scoring='roc_auc').mean())"
      ],
      "metadata": {
        "colab": {
          "base_uri": "https://localhost:8080/"
        },
        "id": "E8tYUqDht4uv",
        "outputId": "6cca7d4e-577b-431a-b926-78bb01e10418"
      },
      "execution_count": 149,
      "outputs": [
        {
          "output_type": "stream",
          "name": "stdout",
          "text": [
            "AUC Score\n",
            "1.0\n"
          ]
        }
      ]
    },
    {
      "cell_type": "markdown",
      "source": [
        "F-beta Score:"
      ],
      "metadata": {
        "id": "1636TpmyuGT-"
      }
    },
    {
      "cell_type": "code",
      "source": [
        "ranfor.fit(X_train, y_train)\n",
        "from sklearn.metrics import fbeta_score\n",
        "predictions_test = ranfor.predict(X_test)\n",
        "print('F-Beta Score')\n",
        "fbeta_score(y_test, predictions_test, average='binary', beta=0.5)"
      ],
      "metadata": {
        "colab": {
          "base_uri": "https://localhost:8080/"
        },
        "id": "-8GsBMvqZNyF",
        "outputId": "f4a5cc55-6946-41cf-9d7e-84a5968119e7"
      },
      "execution_count": 150,
      "outputs": [
        {
          "output_type": "stream",
          "name": "stdout",
          "text": [
            "F-Beta Score\n"
          ]
        },
        {
          "output_type": "execute_result",
          "data": {
            "text/plain": [
              "1.0"
            ]
          },
          "metadata": {},
          "execution_count": 150
        }
      ]
    },
    {
      "cell_type": "markdown",
      "source": [
        "3) Support Vector Machines"
      ],
      "metadata": {
        "id": "_m1AJnOveWLS"
      }
    },
    {
      "cell_type": "code",
      "source": [
        "from sklearn import svm\n",
        "\n",
        "C = 1.0\n",
        "svc = svm.SVC(kernel='linear', C=C, gamma=2)"
      ],
      "metadata": {
        "id": "_4bdfaUVZdDt"
      },
      "execution_count": 151,
      "outputs": []
    },
    {
      "cell_type": "code",
      "source": [
        "cv_scores = cross_val_score(svc, features_final, asd_classes, cv=10)\n",
        "\n",
        "print(f'Cross validation score: {cv_scores.mean()}')"
      ],
      "metadata": {
        "colab": {
          "base_uri": "https://localhost:8080/"
        },
        "id": "TBzCFZi7ZgV1",
        "outputId": "03c43c26-cc75-40cb-f025-00f8b89da7e8"
      },
      "execution_count": 152,
      "outputs": [
        {
          "output_type": "stream",
          "name": "stdout",
          "text": [
            "Cross validation score: 1.0\n"
          ]
        }
      ]
    },
    {
      "cell_type": "markdown",
      "source": [
        "AUC score: Percentage of ROC plot under the curve"
      ],
      "metadata": {
        "id": "8etACmKduabo"
      }
    },
    {
      "cell_type": "code",
      "source": [
        "# calculate cross-validated AUC\n",
        "# from sklearn.cross_validation import cross_val_score\n",
        "print('AUC score')\n",
        "cross_val_score(dectree, features_final, asd_classes, cv=10, scoring='roc_auc').mean()"
      ],
      "metadata": {
        "colab": {
          "base_uri": "https://localhost:8080/"
        },
        "id": "Cdh0k_mVeJmg",
        "outputId": "ac0c35fb-ca63-4711-ce6d-b9e04ad503e4"
      },
      "execution_count": 153,
      "outputs": [
        {
          "output_type": "stream",
          "name": "stdout",
          "text": [
            "AUC score\n"
          ]
        },
        {
          "output_type": "execute_result",
          "data": {
            "text/plain": [
              "1.0"
            ]
          },
          "metadata": {},
          "execution_count": 153
        }
      ]
    },
    {
      "cell_type": "markdown",
      "source": [
        "F-Beta"
      ],
      "metadata": {
        "id": "DYtVIdXTufpZ"
      }
    },
    {
      "cell_type": "code",
      "source": [
        "svc.fit(X_train, y_train)\n",
        "from sklearn.metrics import fbeta_score\n",
        "predictions_test = svc.predict(X_test)\n",
        "print('F-Beta score')\n",
        "fbeta_score(y_test, predictions_test, average='binary', beta=0.5)"
      ],
      "metadata": {
        "colab": {
          "base_uri": "https://localhost:8080/"
        },
        "id": "Hk53cnudZlHM",
        "outputId": "02fe2bb7-3c1c-4d88-9d3c-0fd8327570d9"
      },
      "execution_count": 154,
      "outputs": [
        {
          "output_type": "stream",
          "name": "stdout",
          "text": [
            "F-Beta score\n"
          ]
        },
        {
          "output_type": "execute_result",
          "data": {
            "text/plain": [
              "1.0"
            ]
          },
          "metadata": {},
          "execution_count": 154
        }
      ]
    },
    {
      "cell_type": "markdown",
      "source": [
        "4) K Nearest Neighbour"
      ],
      "metadata": {
        "id": "1087W8zvcfmj"
      }
    },
    {
      "cell_type": "code",
      "source": [
        "from sklearn import neighbors\n",
        "\n",
        "knn = neighbors.KNeighborsClassifier(n_neighbors=10)\n",
        "cv_scores = cross_val_score(knn, features_final, asd_classes, cv=10)\n",
        "print('Cross Validation Score')\n",
        "cv_scores.mean()"
      ],
      "metadata": {
        "id": "3t9L8Cn3fMmk",
        "colab": {
          "base_uri": "https://localhost:8080/"
        },
        "outputId": "24fe4a98-9e7e-47eb-e4ae-cca21e7c62ea"
      },
      "execution_count": 155,
      "outputs": [
        {
          "output_type": "stream",
          "name": "stdout",
          "text": [
            "Cross Validation Score\n"
          ]
        },
        {
          "output_type": "execute_result",
          "data": {
            "text/plain": [
              "0.9457103825136611"
            ]
          },
          "metadata": {},
          "execution_count": 155
        }
      ]
    },
    {
      "cell_type": "markdown",
      "source": [
        "AUC Score"
      ],
      "metadata": {
        "id": "2Gla2uHXwCWj"
      }
    },
    {
      "cell_type": "code",
      "source": [
        "# calculate cross-validated AUC\n",
        "# from sklearn.cross_validation import cross_val_score\n",
        "print('AUC Score')\n",
        "cross_val_score(knn, features_final, asd_classes, cv=10, scoring='roc_auc').mean()"
      ],
      "metadata": {
        "colab": {
          "base_uri": "https://localhost:8080/"
        },
        "id": "WSaXwnCXdSvI",
        "outputId": "ffe562da-9777-451d-fb31-52d4651640b1"
      },
      "execution_count": 156,
      "outputs": [
        {
          "output_type": "stream",
          "name": "stdout",
          "text": [
            "AUC Score\n"
          ]
        },
        {
          "output_type": "execute_result",
          "data": {
            "text/plain": [
              "0.9927925433739387"
            ]
          },
          "metadata": {},
          "execution_count": 156
        }
      ]
    },
    {
      "cell_type": "code",
      "source": [
        "knn.fit(X_train, y_train)\n",
        "from sklearn.metrics import fbeta_score\n",
        "predictions_test = knn.predict(X_test)\n",
        "print('F-Beta Score')\n",
        "fbeta_score(y_test, predictions_test, average='binary', beta=0.5)"
      ],
      "metadata": {
        "colab": {
          "base_uri": "https://localhost:8080/"
        },
        "id": "DYuBIav_dY4K",
        "outputId": "3d95197e-3bc4-41cb-dd90-72aa00ba3b7f"
      },
      "execution_count": 157,
      "outputs": [
        {
          "output_type": "stream",
          "name": "stdout",
          "text": [
            "F-Beta Score\n"
          ]
        },
        {
          "output_type": "execute_result",
          "data": {
            "text/plain": [
              "0.9653465346534654"
            ]
          },
          "metadata": {},
          "execution_count": 157
        }
      ]
    },
    {
      "cell_type": "markdown",
      "source": [
        "To choose KNN, we need to find ideal value of K, so we tried testing various values of K"
      ],
      "metadata": {
        "id": "mJnaXOYjw1GL"
      }
    },
    {
      "cell_type": "code",
      "source": [
        "for n in range(10, 50):\n",
        "    knn = neighbors.KNeighborsClassifier(n_neighbors=n)\n",
        "    cv_scores = cross_val_score(knn, features_final, asd_classes, cv=10)\n",
        "    print (f'K: {n}, Cross Validation Score: {cv_scores.mean()}')"
      ],
      "metadata": {
        "colab": {
          "base_uri": "https://localhost:8080/"
        },
        "id": "kuZ1usGkdcM2",
        "outputId": "71a80ca7-cd86-4e90-f781-887e180e6d3f"
      },
      "execution_count": 158,
      "outputs": [
        {
          "output_type": "stream",
          "name": "stdout",
          "text": [
            "K: 10, Cross Validation Score: 0.9457103825136611\n",
            "K: 11, Cross Validation Score: 0.9506557377049181\n",
            "K: 12, Cross Validation Score: 0.9489890710382513\n",
            "K: 13, Cross Validation Score: 0.9522950819672131\n",
            "K: 14, Cross Validation Score: 0.947377049180328\n",
            "K: 15, Cross Validation Score: 0.9440983606557378\n",
            "K: 16, Cross Validation Score: 0.9506557377049181\n",
            "K: 17, Cross Validation Score: 0.9522950819672129\n",
            "K: 18, Cross Validation Score: 0.9522677595628414\n",
            "K: 19, Cross Validation Score: 0.953934426229508\n",
            "K: 20, Cross Validation Score: 0.9522677595628414\n",
            "K: 21, Cross Validation Score: 0.9522950819672129\n",
            "K: 22, Cross Validation Score: 0.9473224043715845\n",
            "K: 23, Cross Validation Score: 0.9506010928961748\n",
            "K: 24, Cross Validation Score: 0.9506010928961747\n",
            "K: 25, Cross Validation Score: 0.9522404371584698\n",
            "K: 26, Cross Validation Score: 0.9522404371584698\n",
            "K: 27, Cross Validation Score: 0.9522677595628414\n",
            "K: 28, Cross Validation Score: 0.9506010928961747\n",
            "K: 29, Cross Validation Score: 0.9506284153005463\n",
            "K: 30, Cross Validation Score: 0.9522677595628414\n",
            "K: 31, Cross Validation Score: 0.9490437158469944\n",
            "K: 32, Cross Validation Score: 0.949016393442623\n",
            "K: 33, Cross Validation Score: 0.9490437158469944\n",
            "K: 34, Cross Validation Score: 0.9506557377049181\n",
            "K: 35, Cross Validation Score: 0.9506830601092895\n",
            "K: 36, Cross Validation Score: 0.9506557377049181\n",
            "K: 37, Cross Validation Score: 0.9506557377049181\n",
            "K: 38, Cross Validation Score: 0.9539344262295082\n",
            "K: 39, Cross Validation Score: 0.9506557377049178\n",
            "K: 40, Cross Validation Score: 0.9522950819672129\n",
            "K: 41, Cross Validation Score: 0.9522950819672129\n",
            "K: 42, Cross Validation Score: 0.9506557377049178\n",
            "K: 43, Cross Validation Score: 0.9506557377049178\n",
            "K: 44, Cross Validation Score: 0.9506557377049178\n",
            "K: 45, Cross Validation Score: 0.9506557377049178\n",
            "K: 46, Cross Validation Score: 0.9522950819672129\n",
            "K: 47, Cross Validation Score: 0.9522950819672129\n",
            "K: 48, Cross Validation Score: 0.9555737704918033\n",
            "K: 49, Cross Validation Score: 0.9522950819672129\n"
          ]
        }
      ]
    },
    {
      "cell_type": "markdown",
      "source": [
        "5) Naive Bayes"
      ],
      "metadata": {
        "id": "YHJW35yEdlYf"
      }
    },
    {
      "cell_type": "code",
      "source": [
        "from sklearn.naive_bayes import MultinomialNB\n",
        "\n",
        "#scaler = preprocessing.MinMaxScaler()\n",
        "#all_features_minmax = scaler.fit_transform(all_features)\n",
        "\n",
        "nb = MultinomialNB()\n",
        "cv_scores = cross_val_score(nb, features_final, asd_classes, cv=10)\n",
        "print('Cross validation Score')\n",
        "cv_scores.mean()"
      ],
      "metadata": {
        "colab": {
          "base_uri": "https://localhost:8080/"
        },
        "id": "3bMA-FUVdwc9",
        "outputId": "8fada0c7-add2-4f09-8f40-6f40d311983f"
      },
      "execution_count": 159,
      "outputs": [
        {
          "output_type": "stream",
          "name": "stdout",
          "text": [
            "Cross validation Score\n"
          ]
        },
        {
          "output_type": "execute_result",
          "data": {
            "text/plain": [
              "0.883224043715847"
            ]
          },
          "metadata": {},
          "execution_count": 159
        }
      ]
    },
    {
      "cell_type": "markdown",
      "source": [
        "AUC Score"
      ],
      "metadata": {
        "id": "oArcNBiByQ2T"
      }
    },
    {
      "cell_type": "code",
      "source": [
        "# calculate cross-validated AUC\n",
        "# from sklearn.cross_validation import cross_val_score\n",
        "print('AUC Score')\n",
        "cross_val_score(nb, features_final, asd_classes, cv=10, scoring='roc_auc').mean()"
      ],
      "metadata": {
        "colab": {
          "base_uri": "https://localhost:8080/"
        },
        "id": "2-YIV-DJdiJC",
        "outputId": "2b83f54b-77c1-488a-9ffc-7c4f207f3aef"
      },
      "execution_count": 160,
      "outputs": [
        {
          "output_type": "stream",
          "name": "stdout",
          "text": [
            "AUC Score\n"
          ]
        },
        {
          "output_type": "execute_result",
          "data": {
            "text/plain": [
              "0.9449212501538083"
            ]
          },
          "metadata": {},
          "execution_count": 160
        }
      ]
    },
    {
      "cell_type": "markdown",
      "source": [
        "F-Beta Score"
      ],
      "metadata": {
        "id": "oMQyxVGIysf-"
      }
    },
    {
      "cell_type": "code",
      "source": [
        "nb.fit(X_train, y_train)\n",
        "from sklearn.metrics import fbeta_score\n",
        "predictions_test = nb.predict(X_test)\n",
        "print('F-Beta Score')\n",
        "fbeta_score(y_test, predictions_test, average='binary', beta=0.5)"
      ],
      "metadata": {
        "colab": {
          "base_uri": "https://localhost:8080/"
        },
        "id": "Uh6aX88xd0gA",
        "outputId": "1295bdf0-0591-4ffb-a474-b6b87bd62cb7"
      },
      "execution_count": 161,
      "outputs": [
        {
          "output_type": "stream",
          "name": "stdout",
          "text": [
            "F-Beta Score\n"
          ]
        },
        {
          "output_type": "execute_result",
          "data": {
            "text/plain": [
              "0.8108108108108107"
            ]
          },
          "metadata": {},
          "execution_count": 161
        }
      ]
    },
    {
      "cell_type": "markdown",
      "source": [
        "6) Logistic Regression"
      ],
      "metadata": {
        "id": "3QKqNjITe92q"
      }
    },
    {
      "cell_type": "code",
      "source": [
        "from sklearn.linear_model import LogisticRegression\n",
        "\n",
        "logreg = LogisticRegression()\n",
        "cv_scores = cross_val_score(logreg, features_final, asd_classes, cv=10)\n",
        "print('Cross Validation Score')\n",
        "cv_scores.mean()"
      ],
      "metadata": {
        "colab": {
          "base_uri": "https://localhost:8080/"
        },
        "id": "_Mn6yLk1fAws",
        "outputId": "55cd3592-b219-4c95-8dc0-6220b2d882d0"
      },
      "execution_count": 162,
      "outputs": [
        {
          "output_type": "stream",
          "name": "stdout",
          "text": [
            "Cross Validation Score\n"
          ]
        },
        {
          "output_type": "execute_result",
          "data": {
            "text/plain": [
              "0.9934426229508198"
            ]
          },
          "metadata": {},
          "execution_count": 162
        }
      ]
    },
    {
      "cell_type": "markdown",
      "source": [
        "AUC Score"
      ],
      "metadata": {
        "id": "lZi4ZZvPzQrX"
      }
    },
    {
      "cell_type": "code",
      "source": [
        "# calculate cross-validated AUC\n",
        "cv_scores_roc = cross_val_score(logreg, features_final, asd_classes, cv=10, scoring='roc_auc').mean()\n",
        "print('AUC Score')\n",
        "cv_scores_roc.mean()"
      ],
      "metadata": {
        "colab": {
          "base_uri": "https://localhost:8080/"
        },
        "id": "LavHEpldfEQ3",
        "outputId": "4f3997a4-75f8-4593-c0ab-acb0ad52ae4a"
      },
      "execution_count": 163,
      "outputs": [
        {
          "output_type": "stream",
          "name": "stdout",
          "text": [
            "AUC Score\n"
          ]
        },
        {
          "output_type": "execute_result",
          "data": {
            "text/plain": [
              "1.0"
            ]
          },
          "metadata": {},
          "execution_count": 163
        }
      ]
    },
    {
      "cell_type": "markdown",
      "source": [
        "F-Beta Score"
      ],
      "metadata": {
        "id": "BFTvrVkpzTxz"
      }
    },
    {
      "cell_type": "code",
      "source": [
        "logreg.fit(X_train, y_train)\n",
        "from sklearn.metrics import fbeta_score\n",
        "predictions_test = logreg.predict(X_test)\n",
        "print('F-Beta Score')\n",
        "fbeta_score(y_test, predictions_test, average='binary', beta=0.5)"
      ],
      "metadata": {
        "colab": {
          "base_uri": "https://localhost:8080/"
        },
        "id": "lj4Ob8F6fIcM",
        "outputId": "4c3076a5-edee-4ff1-abe0-4395d1c02eb6"
      },
      "execution_count": 164,
      "outputs": [
        {
          "output_type": "stream",
          "name": "stdout",
          "text": [
            "F-Beta Score\n"
          ]
        },
        {
          "output_type": "execute_result",
          "data": {
            "text/plain": [
              "0.9951456310679611"
            ]
          },
          "metadata": {},
          "execution_count": 164
        }
      ]
    },
    {
      "cell_type": "markdown",
      "source": [
        "Model Tuning"
      ],
      "metadata": {
        "id": "ufLDvDpYfOkL"
      }
    },
    {
      "cell_type": "code",
      "source": [
        "# TODO: Import 'GridSearchCV', 'make_scorer', and any other necessary libraries\n",
        "from sklearn.metrics import fbeta_score\n",
        "from sklearn.metrics import accuracy_score\n",
        "\n",
        "from sklearn.metrics import make_scorer\n",
        "from sklearn.svm import SVC\n",
        "from sklearn.model_selection import GridSearchCV\n",
        "\n",
        "\n",
        "def f_beta_score(y_true, y_predict):\n",
        "    return fbeta_score(y_true, y_predict, beta = 0.5)\n",
        "\n",
        "\n",
        "# TODO: Initialize the classifier\n",
        "clf = SVC(random_state = 1)\n",
        "\n",
        "# TODO: Create the parameters list you wish to tune, using a dictionary if needed.\n",
        "# HINT: parameters = {'parameter_1': [value1, value2], 'parameter_2': [value1, value2]}\n",
        "parameters = {'C':range(1,6),'kernel':['linear','poly','rbf','sigmoid'],'degree':range(1,6)}\n",
        "\n",
        "# TODO: Make an fbeta_score scoring object using make_scorer()\n",
        "scorer = make_scorer(f_beta_score)\n",
        "\n",
        "# TODO: Perform grid search on the classifier using 'scorer' as the scoring method using GridSearchCV()\n",
        "grid_obj = GridSearchCV(estimator = clf, param_grid = parameters, scoring = scorer)\n",
        "\n",
        "# TODO: Fit the grid search object to the training data and find the optimal parameters using fit()\n",
        "grid_fit = grid_obj.fit(X_train, y_train)\n",
        "\n",
        "# Get the estimator\n",
        "best_clf = grid_fit.best_estimator_\n",
        "\n",
        "# Make predictions using the unoptimized and model\n",
        "predictions = (clf.fit(X_train, y_train)).predict(X_test)\n",
        "best_predictions = best_clf.predict(X_test)\n",
        "\n",
        "# Report the before-and-afterscores\n",
        "print(\"Unoptimized model\\n------\")\n",
        "print(\"Accuracy score on testing data: {:.4f}\".format(accuracy_score(y_test, predictions)))\n",
        "print(\"F-score on testing data: {:.4f}\".format(fbeta_score(y_test, predictions, beta = 0.5)))\n",
        "print(\"\\nOptimized Model\\n------\")\n",
        "print(\"Final accuracy score on the testing data: {:.4f}\".format(accuracy_score(y_test, best_predictions)))\n",
        "print(\"Final F-score on the testing data: {:.4f}\".format(fbeta_score(y_test, best_predictions, beta = 0.5)))\n"
      ],
      "metadata": {
        "colab": {
          "base_uri": "https://localhost:8080/"
        },
        "id": "iDRrx9EMfLm9",
        "outputId": "1bdb842b-db02-4d46-c7fb-5dda4cf8dfae"
      },
      "execution_count": 165,
      "outputs": [
        {
          "output_type": "stream",
          "name": "stdout",
          "text": [
            "Unoptimized model\n",
            "------\n",
            "Accuracy score on testing data: 0.9672\n",
            "F-score on testing data: 0.9653\n",
            "\n",
            "Optimized Model\n",
            "------\n",
            "Final accuracy score on the testing data: 1.0000\n",
            "Final F-score on the testing data: 1.0000\n"
          ]
        }
      ]
    },
    {
      "cell_type": "markdown",
      "source": [
        "Step 5: Model tuning."
      ],
      "metadata": {
        "id": "dImCj3JGgN8n"
      }
    },
    {
      "cell_type": "code",
      "source": [
        "# TODO: Import a supervised learning model that has 'feature_importances_'\n",
        "from sklearn.ensemble import GradientBoostingClassifier\n",
        "\n",
        "\n",
        "# TODO: Train the supervised model on the training set using .fit(X_train, y_train)\n",
        "model = GradientBoostingClassifier(random_state=0)\n",
        "model.fit(X_train, y_train)\n",
        "\n",
        "# TODO: Extract the feature importances using .feature_importances_ \n",
        "importances = model.feature_importances_\n",
        "print(importances)\n"
      ],
      "metadata": {
        "colab": {
          "base_uri": "https://localhost:8080/"
        },
        "id": "myd3CI8cfn6K",
        "outputId": "e5690afe-914a-47f9-d4a5-d32bebe83db0"
      },
      "execution_count": 166,
      "outputs": [
        {
          "output_type": "stream",
          "name": "stdout",
          "text": [
            "[ 1.82809838e-15  1.00000000e+00  0.00000000e+00  6.80333901e-18\n",
            "  0.00000000e+00  0.00000000e+00  0.00000000e+00  3.98101634e-17\n",
            "  0.00000000e+00  5.12901336e-16  0.00000000e+00  0.00000000e+00\n",
            "  0.00000000e+00  0.00000000e+00  0.00000000e+00  0.00000000e+00\n",
            "  0.00000000e+00  0.00000000e+00  0.00000000e+00  0.00000000e+00\n",
            "  0.00000000e+00  0.00000000e+00  0.00000000e+00  0.00000000e+00\n",
            "  0.00000000e+00 -2.20045496e-17  0.00000000e+00  0.00000000e+00\n",
            "  0.00000000e+00  0.00000000e+00  0.00000000e+00  0.00000000e+00\n",
            "  0.00000000e+00  0.00000000e+00  0.00000000e+00  0.00000000e+00\n",
            "  0.00000000e+00  0.00000000e+00  0.00000000e+00  0.00000000e+00\n",
            "  0.00000000e+00  0.00000000e+00  0.00000000e+00  0.00000000e+00\n",
            "  0.00000000e+00  0.00000000e+00  0.00000000e+00  0.00000000e+00\n",
            "  0.00000000e+00  0.00000000e+00  0.00000000e+00  0.00000000e+00\n",
            "  0.00000000e+00  0.00000000e+00  0.00000000e+00  0.00000000e+00\n",
            "  0.00000000e+00  0.00000000e+00  0.00000000e+00  0.00000000e+00\n",
            "  0.00000000e+00  0.00000000e+00  0.00000000e+00  0.00000000e+00\n",
            "  0.00000000e+00  0.00000000e+00  0.00000000e+00  0.00000000e+00\n",
            "  0.00000000e+00  0.00000000e+00  0.00000000e+00  0.00000000e+00\n",
            "  0.00000000e+00  0.00000000e+00  0.00000000e+00  0.00000000e+00\n",
            "  0.00000000e+00  0.00000000e+00  0.00000000e+00  0.00000000e+00\n",
            "  0.00000000e+00  0.00000000e+00  0.00000000e+00  0.00000000e+00\n",
            "  0.00000000e+00  0.00000000e+00  0.00000000e+00  0.00000000e+00\n",
            "  0.00000000e+00  0.00000000e+00  0.00000000e+00  0.00000000e+00\n",
            "  0.00000000e+00  0.00000000e+00]\n"
          ]
        }
      ]
    },
    {
      "cell_type": "markdown",
      "source": [
        "Step 6: Feature Importance"
      ],
      "metadata": {
        "id": "GhiBbHE7g2kU"
      }
    },
    {
      "cell_type": "markdown",
      "source": [
        "An important task when performing supervised learning on a dataset like the autistic data we study here is determining which features provide the most predictive power. By focusing on the relationship between only a few crucial features and the target label we simplify our understanding of the phenomenon, which is most always a useful thing to do. In the case of this project, that means we wish to identify a small number of features that most strongly predict whether an individual has ASD or not.\n",
        "\n",
        "Choose a scikit-learn classifier (e.g., gradientBoosting, adaboost, random forests) that has a feature_importance_ attribute, which is a function that ranks the importance of features according to the chosen classifier. In the next python cell fit this classifier to training set and use this attribute to determine the top 5 most important features for the ASD dataset."
      ],
      "metadata": {
        "id": "dN0DahVv0rth"
      }
    },
    {
      "cell_type": "code",
      "source": [
        "# TODO: Import a supervised learning model that has 'feature_importances_'\n",
        "from sklearn.ensemble import GradientBoostingClassifier\n",
        "\n",
        "\n",
        "# TODO: Train the supervised model on the training set using .fit(X_train, y_train)\n",
        "model = GradientBoostingClassifier(random_state=0)\n",
        "model.fit(X_train, y_train)\n",
        "\n",
        "# TODO: Extract the feature importances using .feature_importances_ \n",
        "importances = model.feature_importances_\n",
        "print(importances)"
      ],
      "metadata": {
        "colab": {
          "base_uri": "https://localhost:8080/"
        },
        "id": "q30BTvQkgc9J",
        "outputId": "eece6194-6b12-4f52-d77a-bef468ea931a"
      },
      "execution_count": 167,
      "outputs": [
        {
          "output_type": "stream",
          "name": "stdout",
          "text": [
            "[ 1.82809838e-15  1.00000000e+00  0.00000000e+00  6.80333901e-18\n",
            "  0.00000000e+00  0.00000000e+00  0.00000000e+00  3.98101634e-17\n",
            "  0.00000000e+00  5.12901336e-16  0.00000000e+00  0.00000000e+00\n",
            "  0.00000000e+00  0.00000000e+00  0.00000000e+00  0.00000000e+00\n",
            "  0.00000000e+00  0.00000000e+00  0.00000000e+00  0.00000000e+00\n",
            "  0.00000000e+00  0.00000000e+00  0.00000000e+00  0.00000000e+00\n",
            "  0.00000000e+00 -2.20045496e-17  0.00000000e+00  0.00000000e+00\n",
            "  0.00000000e+00  0.00000000e+00  0.00000000e+00  0.00000000e+00\n",
            "  0.00000000e+00  0.00000000e+00  0.00000000e+00  0.00000000e+00\n",
            "  0.00000000e+00  0.00000000e+00  0.00000000e+00  0.00000000e+00\n",
            "  0.00000000e+00  0.00000000e+00  0.00000000e+00  0.00000000e+00\n",
            "  0.00000000e+00  0.00000000e+00  0.00000000e+00  0.00000000e+00\n",
            "  0.00000000e+00  0.00000000e+00  0.00000000e+00  0.00000000e+00\n",
            "  0.00000000e+00  0.00000000e+00  0.00000000e+00  0.00000000e+00\n",
            "  0.00000000e+00  0.00000000e+00  0.00000000e+00  0.00000000e+00\n",
            "  0.00000000e+00  0.00000000e+00  0.00000000e+00  0.00000000e+00\n",
            "  0.00000000e+00  0.00000000e+00  0.00000000e+00  0.00000000e+00\n",
            "  0.00000000e+00  0.00000000e+00  0.00000000e+00  0.00000000e+00\n",
            "  0.00000000e+00  0.00000000e+00  0.00000000e+00  0.00000000e+00\n",
            "  0.00000000e+00  0.00000000e+00  0.00000000e+00  0.00000000e+00\n",
            "  0.00000000e+00  0.00000000e+00  0.00000000e+00  0.00000000e+00\n",
            "  0.00000000e+00  0.00000000e+00  0.00000000e+00  0.00000000e+00\n",
            "  0.00000000e+00  0.00000000e+00  0.00000000e+00  0.00000000e+00\n",
            "  0.00000000e+00  0.00000000e+00]\n"
          ]
        }
      ]
    },
    {
      "cell_type": "code",
      "source": [
        "# TODO: Import a supervised learning model that has 'feature_importances_'\n",
        "from sklearn.ensemble import AdaBoostClassifier\n",
        "\n",
        "\n",
        "# TODO: Train the supervised model on the training set using .fit(X_train, y_train)\n",
        "model = AdaBoostClassifier(random_state=0)\n",
        "model.fit(X_train, y_train)\n",
        "\n",
        "# TODO: Extract the feature importances using .feature_importances_ \n",
        "importances = model.feature_importances_\n"
      ],
      "metadata": {
        "id": "OVpp2fpn0xhY"
      },
      "execution_count": 168,
      "outputs": []
    },
    {
      "cell_type": "markdown",
      "source": [
        "Feature Selection"
      ],
      "metadata": {
        "id": "Xt2yZ5L91dyR"
      }
    },
    {
      "cell_type": "markdown",
      "source": [
        "From the visualization above, we see that the top five most important features(in order with their weightage factor) contribute more than half of the importance of all features present in the data. These 5 features are:\n",
        "\n",
        "'result'\n",
        "\n",
        "'relation_self'\n",
        "\n",
        "'country_of_residence'\n",
        "\n",
        "'jundice_no'\n",
        "\n",
        "'jundice_yes'\n",
        "\n",
        "This hints that we can attempt to reduce the feature space and simplify the information required for the model to learn. Although looking at those weight factor it seems like 'result' feature is clearly dominating its influence on the algorithms over all other features."
      ],
      "metadata": {
        "id": "YPUPKPEDKq8l"
      }
    },
    {
      "cell_type": "markdown",
      "source": [
        "Step 7) Building a MLP model architecture."
      ],
      "metadata": {
        "id": "TQxHnnHVKyOr"
      }
    },
    {
      "cell_type": "code",
      "source": [
        "# Imports\n",
        "import numpy as np\n",
        "import keras\n",
        "from keras.models import Sequential\n",
        "from keras.layers import Dense, Dropout, Activation\n",
        "\n",
        "\n",
        "np.random.seed(42)"
      ],
      "metadata": {
        "id": "s1cODV0X06Eb"
      },
      "execution_count": 169,
      "outputs": []
    },
    {
      "cell_type": "code",
      "source": [
        "# Building the model architecture with one layer of length 4\n",
        "\n",
        "\n",
        "model = Sequential()\n",
        "model.add(Dense(8, activation='relu', input_dim= 94))\n",
        "model.add(Dropout(0.2))\n",
        "model.add(Dense(1, kernel_initializer='normal', activation='sigmoid'))\n",
        "   \n",
        "    \n",
        "model.summary()"
      ],
      "metadata": {
        "colab": {
          "base_uri": "https://localhost:8080/"
        },
        "id": "TECgYnO4LIxp",
        "outputId": "822bbfc1-7285-4391-d62e-3e818a28ae9d"
      },
      "execution_count": 170,
      "outputs": [
        {
          "output_type": "stream",
          "name": "stdout",
          "text": [
            "Model: \"sequential\"\n",
            "_________________________________________________________________\n",
            " Layer (type)                Output Shape              Param #   \n",
            "=================================================================\n",
            " dense (Dense)               (None, 8)                 760       \n",
            "                                                                 \n",
            " dropout (Dropout)           (None, 8)                 0         \n",
            "                                                                 \n",
            " dense_1 (Dense)             (None, 1)                 9         \n",
            "                                                                 \n",
            "=================================================================\n",
            "Total params: 769\n",
            "Trainable params: 769\n",
            "Non-trainable params: 0\n",
            "_________________________________________________________________\n"
          ]
        }
      ]
    },
    {
      "cell_type": "code",
      "source": [
        "# Compiling the model using categorical_crossentropy loss, and rmsprop optimizer.\n",
        "model.compile(loss='binary_crossentropy', optimizer='rmsprop', metrics=['accuracy'])\n"
      ],
      "metadata": {
        "id": "7jUgdL2kLMLl"
      },
      "execution_count": 171,
      "outputs": []
    },
    {
      "cell_type": "code",
      "source": [
        "# Running and evaluating the model\n",
        "hist = model.fit(X_train, y_train,\n",
        "          batch_size=16,\n",
        "          epochs=100,\n",
        "          validation_data=(X_test, y_test), \n",
        "          verbose=2)"
      ],
      "metadata": {
        "colab": {
          "base_uri": "https://localhost:8080/"
        },
        "id": "cA1aGKOmLSWb",
        "outputId": "4977ca78-20c5-4611-b14b-2c27622d8916"
      },
      "execution_count": 172,
      "outputs": [
        {
          "output_type": "stream",
          "name": "stdout",
          "text": [
            "Epoch 1/100\n",
            "31/31 - 4s - loss: 0.6777 - accuracy: 0.6749 - val_loss: 0.6702 - val_accuracy: 0.6557 - 4s/epoch - 128ms/step\n",
            "Epoch 2/100\n",
            "31/31 - 0s - loss: 0.6512 - accuracy: 0.7160 - val_loss: 0.6508 - val_accuracy: 0.6557 - 216ms/epoch - 7ms/step\n",
            "Epoch 3/100\n",
            "31/31 - 0s - loss: 0.6229 - accuracy: 0.7160 - val_loss: 0.6300 - val_accuracy: 0.6557 - 285ms/epoch - 9ms/step\n",
            "Epoch 4/100\n",
            "31/31 - 0s - loss: 0.5904 - accuracy: 0.7160 - val_loss: 0.6076 - val_accuracy: 0.6557 - 273ms/epoch - 9ms/step\n",
            "Epoch 5/100\n",
            "31/31 - 0s - loss: 0.5581 - accuracy: 0.7160 - val_loss: 0.5839 - val_accuracy: 0.6557 - 211ms/epoch - 7ms/step\n",
            "Epoch 6/100\n",
            "31/31 - 0s - loss: 0.5295 - accuracy: 0.7160 - val_loss: 0.5588 - val_accuracy: 0.6557 - 277ms/epoch - 9ms/step\n",
            "Epoch 7/100\n",
            "31/31 - 0s - loss: 0.5065 - accuracy: 0.7160 - val_loss: 0.5323 - val_accuracy: 0.6557 - 204ms/epoch - 7ms/step\n",
            "Epoch 8/100\n",
            "31/31 - 0s - loss: 0.4789 - accuracy: 0.7160 - val_loss: 0.5079 - val_accuracy: 0.6557 - 149ms/epoch - 5ms/step\n",
            "Epoch 9/100\n",
            "31/31 - 0s - loss: 0.4513 - accuracy: 0.7160 - val_loss: 0.4842 - val_accuracy: 0.6557 - 171ms/epoch - 6ms/step\n",
            "Epoch 10/100\n",
            "31/31 - 0s - loss: 0.4311 - accuracy: 0.7160 - val_loss: 0.4642 - val_accuracy: 0.6557 - 178ms/epoch - 6ms/step\n",
            "Epoch 11/100\n",
            "31/31 - 0s - loss: 0.4136 - accuracy: 0.7160 - val_loss: 0.4441 - val_accuracy: 0.6557 - 314ms/epoch - 10ms/step\n",
            "Epoch 12/100\n",
            "31/31 - 0s - loss: 0.3957 - accuracy: 0.7160 - val_loss: 0.4269 - val_accuracy: 0.6557 - 201ms/epoch - 6ms/step\n",
            "Epoch 13/100\n",
            "31/31 - 0s - loss: 0.3789 - accuracy: 0.7160 - val_loss: 0.4135 - val_accuracy: 0.6557 - 141ms/epoch - 5ms/step\n",
            "Epoch 14/100\n",
            "31/31 - 0s - loss: 0.3667 - accuracy: 0.7160 - val_loss: 0.3982 - val_accuracy: 0.6557 - 120ms/epoch - 4ms/step\n",
            "Epoch 15/100\n",
            "31/31 - 0s - loss: 0.3545 - accuracy: 0.7160 - val_loss: 0.3861 - val_accuracy: 0.6557 - 251ms/epoch - 8ms/step\n",
            "Epoch 16/100\n",
            "31/31 - 0s - loss: 0.3443 - accuracy: 0.7160 - val_loss: 0.3771 - val_accuracy: 0.6557 - 445ms/epoch - 14ms/step\n",
            "Epoch 17/100\n",
            "31/31 - 0s - loss: 0.3340 - accuracy: 0.7778 - val_loss: 0.3681 - val_accuracy: 0.7541 - 229ms/epoch - 7ms/step\n",
            "Epoch 18/100\n",
            "31/31 - 0s - loss: 0.3176 - accuracy: 0.8580 - val_loss: 0.3602 - val_accuracy: 0.8115 - 130ms/epoch - 4ms/step\n",
            "Epoch 19/100\n",
            "31/31 - 0s - loss: 0.3098 - accuracy: 0.8642 - val_loss: 0.3516 - val_accuracy: 0.8525 - 319ms/epoch - 10ms/step\n",
            "Epoch 20/100\n",
            "31/31 - 0s - loss: 0.3007 - accuracy: 0.8745 - val_loss: 0.3450 - val_accuracy: 0.8607 - 233ms/epoch - 8ms/step\n",
            "Epoch 21/100\n",
            "31/31 - 0s - loss: 0.3016 - accuracy: 0.8868 - val_loss: 0.3377 - val_accuracy: 0.8770 - 118ms/epoch - 4ms/step\n",
            "Epoch 22/100\n",
            "31/31 - 0s - loss: 0.2850 - accuracy: 0.8992 - val_loss: 0.3304 - val_accuracy: 0.8770 - 87ms/epoch - 3ms/step\n",
            "Epoch 23/100\n",
            "31/31 - 0s - loss: 0.2820 - accuracy: 0.9053 - val_loss: 0.3228 - val_accuracy: 0.9016 - 100ms/epoch - 3ms/step\n",
            "Epoch 24/100\n",
            "31/31 - 0s - loss: 0.2732 - accuracy: 0.9095 - val_loss: 0.3151 - val_accuracy: 0.9016 - 81ms/epoch - 3ms/step\n",
            "Epoch 25/100\n",
            "31/31 - 0s - loss: 0.2612 - accuracy: 0.9156 - val_loss: 0.3089 - val_accuracy: 0.9016 - 92ms/epoch - 3ms/step\n",
            "Epoch 26/100\n",
            "31/31 - 0s - loss: 0.2618 - accuracy: 0.9280 - val_loss: 0.3029 - val_accuracy: 0.9098 - 87ms/epoch - 3ms/step\n",
            "Epoch 27/100\n",
            "31/31 - 0s - loss: 0.2560 - accuracy: 0.9259 - val_loss: 0.2985 - val_accuracy: 0.9098 - 80ms/epoch - 3ms/step\n",
            "Epoch 28/100\n",
            "31/31 - 0s - loss: 0.2537 - accuracy: 0.9218 - val_loss: 0.2914 - val_accuracy: 0.9098 - 93ms/epoch - 3ms/step\n",
            "Epoch 29/100\n",
            "31/31 - 0s - loss: 0.2412 - accuracy: 0.9362 - val_loss: 0.2856 - val_accuracy: 0.9098 - 80ms/epoch - 3ms/step\n",
            "Epoch 30/100\n",
            "31/31 - 0s - loss: 0.2370 - accuracy: 0.9465 - val_loss: 0.2826 - val_accuracy: 0.9098 - 89ms/epoch - 3ms/step\n",
            "Epoch 31/100\n",
            "31/31 - 0s - loss: 0.2339 - accuracy: 0.9342 - val_loss: 0.2760 - val_accuracy: 0.9262 - 94ms/epoch - 3ms/step\n",
            "Epoch 32/100\n",
            "31/31 - 0s - loss: 0.2284 - accuracy: 0.9506 - val_loss: 0.2719 - val_accuracy: 0.9262 - 92ms/epoch - 3ms/step\n",
            "Epoch 33/100\n",
            "31/31 - 0s - loss: 0.2231 - accuracy: 0.9527 - val_loss: 0.2661 - val_accuracy: 0.9344 - 85ms/epoch - 3ms/step\n",
            "Epoch 34/100\n",
            "31/31 - 0s - loss: 0.2172 - accuracy: 0.9568 - val_loss: 0.2615 - val_accuracy: 0.9344 - 93ms/epoch - 3ms/step\n",
            "Epoch 35/100\n",
            "31/31 - 0s - loss: 0.2171 - accuracy: 0.9568 - val_loss: 0.2607 - val_accuracy: 0.9344 - 105ms/epoch - 3ms/step\n",
            "Epoch 36/100\n",
            "31/31 - 0s - loss: 0.2070 - accuracy: 0.9650 - val_loss: 0.2534 - val_accuracy: 0.9344 - 85ms/epoch - 3ms/step\n",
            "Epoch 37/100\n",
            "31/31 - 0s - loss: 0.2066 - accuracy: 0.9630 - val_loss: 0.2508 - val_accuracy: 0.9344 - 93ms/epoch - 3ms/step\n",
            "Epoch 38/100\n",
            "31/31 - 0s - loss: 0.1987 - accuracy: 0.9650 - val_loss: 0.2460 - val_accuracy: 0.9426 - 84ms/epoch - 3ms/step\n",
            "Epoch 39/100\n",
            "31/31 - 0s - loss: 0.1972 - accuracy: 0.9712 - val_loss: 0.2404 - val_accuracy: 0.9426 - 95ms/epoch - 3ms/step\n",
            "Epoch 40/100\n",
            "31/31 - 0s - loss: 0.1911 - accuracy: 0.9630 - val_loss: 0.2372 - val_accuracy: 0.9426 - 104ms/epoch - 3ms/step\n",
            "Epoch 41/100\n",
            "31/31 - 0s - loss: 0.1819 - accuracy: 0.9733 - val_loss: 0.2344 - val_accuracy: 0.9426 - 83ms/epoch - 3ms/step\n",
            "Epoch 42/100\n",
            "31/31 - 0s - loss: 0.1811 - accuracy: 0.9712 - val_loss: 0.2297 - val_accuracy: 0.9508 - 87ms/epoch - 3ms/step\n",
            "Epoch 43/100\n",
            "31/31 - 0s - loss: 0.1759 - accuracy: 0.9671 - val_loss: 0.2286 - val_accuracy: 0.9426 - 96ms/epoch - 3ms/step\n",
            "Epoch 44/100\n",
            "31/31 - 0s - loss: 0.1691 - accuracy: 0.9774 - val_loss: 0.2263 - val_accuracy: 0.9508 - 83ms/epoch - 3ms/step\n",
            "Epoch 45/100\n",
            "31/31 - 0s - loss: 0.1707 - accuracy: 0.9712 - val_loss: 0.2190 - val_accuracy: 0.9508 - 86ms/epoch - 3ms/step\n",
            "Epoch 46/100\n",
            "31/31 - 0s - loss: 0.1644 - accuracy: 0.9691 - val_loss: 0.2133 - val_accuracy: 0.9508 - 83ms/epoch - 3ms/step\n",
            "Epoch 47/100\n",
            "31/31 - 0s - loss: 0.1631 - accuracy: 0.9835 - val_loss: 0.2126 - val_accuracy: 0.9508 - 105ms/epoch - 3ms/step\n",
            "Epoch 48/100\n",
            "31/31 - 0s - loss: 0.1605 - accuracy: 0.9753 - val_loss: 0.2087 - val_accuracy: 0.9508 - 88ms/epoch - 3ms/step\n",
            "Epoch 49/100\n",
            "31/31 - 0s - loss: 0.1564 - accuracy: 0.9774 - val_loss: 0.2039 - val_accuracy: 0.9508 - 79ms/epoch - 3ms/step\n",
            "Epoch 50/100\n",
            "31/31 - 0s - loss: 0.1508 - accuracy: 0.9774 - val_loss: 0.2020 - val_accuracy: 0.9508 - 90ms/epoch - 3ms/step\n",
            "Epoch 51/100\n",
            "31/31 - 0s - loss: 0.1468 - accuracy: 0.9774 - val_loss: 0.1962 - val_accuracy: 0.9590 - 90ms/epoch - 3ms/step\n",
            "Epoch 52/100\n",
            "31/31 - 0s - loss: 0.1452 - accuracy: 0.9815 - val_loss: 0.1939 - val_accuracy: 0.9508 - 80ms/epoch - 3ms/step\n",
            "Epoch 53/100\n",
            "31/31 - 0s - loss: 0.1437 - accuracy: 0.9856 - val_loss: 0.1921 - val_accuracy: 0.9508 - 81ms/epoch - 3ms/step\n",
            "Epoch 54/100\n",
            "31/31 - 0s - loss: 0.1382 - accuracy: 0.9835 - val_loss: 0.1890 - val_accuracy: 0.9508 - 78ms/epoch - 3ms/step\n",
            "Epoch 55/100\n",
            "31/31 - 0s - loss: 0.1352 - accuracy: 0.9835 - val_loss: 0.1889 - val_accuracy: 0.9426 - 87ms/epoch - 3ms/step\n",
            "Epoch 56/100\n",
            "31/31 - 0s - loss: 0.1339 - accuracy: 0.9877 - val_loss: 0.1855 - val_accuracy: 0.9508 - 80ms/epoch - 3ms/step\n",
            "Epoch 57/100\n",
            "31/31 - 0s - loss: 0.1263 - accuracy: 0.9897 - val_loss: 0.1815 - val_accuracy: 0.9508 - 84ms/epoch - 3ms/step\n",
            "Epoch 58/100\n",
            "31/31 - 0s - loss: 0.1250 - accuracy: 0.9918 - val_loss: 0.1760 - val_accuracy: 0.9590 - 81ms/epoch - 3ms/step\n",
            "Epoch 59/100\n",
            "31/31 - 0s - loss: 0.1202 - accuracy: 0.9959 - val_loss: 0.1777 - val_accuracy: 0.9426 - 93ms/epoch - 3ms/step\n",
            "Epoch 60/100\n",
            "31/31 - 0s - loss: 0.1222 - accuracy: 0.9877 - val_loss: 0.1755 - val_accuracy: 0.9590 - 79ms/epoch - 3ms/step\n",
            "Epoch 61/100\n",
            "31/31 - 0s - loss: 0.1148 - accuracy: 0.9897 - val_loss: 0.1736 - val_accuracy: 0.9508 - 93ms/epoch - 3ms/step\n",
            "Epoch 62/100\n",
            "31/31 - 0s - loss: 0.1180 - accuracy: 0.9877 - val_loss: 0.1695 - val_accuracy: 0.9508 - 89ms/epoch - 3ms/step\n",
            "Epoch 63/100\n",
            "31/31 - 0s - loss: 0.1136 - accuracy: 0.9938 - val_loss: 0.1692 - val_accuracy: 0.9508 - 79ms/epoch - 3ms/step\n",
            "Epoch 64/100\n",
            "31/31 - 0s - loss: 0.1151 - accuracy: 0.9918 - val_loss: 0.1690 - val_accuracy: 0.9508 - 104ms/epoch - 3ms/step\n",
            "Epoch 65/100\n",
            "31/31 - 0s - loss: 0.1049 - accuracy: 0.9959 - val_loss: 0.1632 - val_accuracy: 0.9508 - 93ms/epoch - 3ms/step\n",
            "Epoch 66/100\n",
            "31/31 - 0s - loss: 0.1046 - accuracy: 0.9938 - val_loss: 0.1633 - val_accuracy: 0.9426 - 81ms/epoch - 3ms/step\n",
            "Epoch 67/100\n",
            "31/31 - 0s - loss: 0.1031 - accuracy: 0.9938 - val_loss: 0.1624 - val_accuracy: 0.9508 - 80ms/epoch - 3ms/step\n",
            "Epoch 68/100\n",
            "31/31 - 0s - loss: 0.0998 - accuracy: 0.9959 - val_loss: 0.1594 - val_accuracy: 0.9508 - 75ms/epoch - 2ms/step\n",
            "Epoch 69/100\n",
            "31/31 - 0s - loss: 0.1003 - accuracy: 0.9918 - val_loss: 0.1600 - val_accuracy: 0.9508 - 87ms/epoch - 3ms/step\n",
            "Epoch 70/100\n",
            "31/31 - 0s - loss: 0.0967 - accuracy: 0.9938 - val_loss: 0.1612 - val_accuracy: 0.9508 - 92ms/epoch - 3ms/step\n",
            "Epoch 71/100\n",
            "31/31 - 0s - loss: 0.0975 - accuracy: 0.9897 - val_loss: 0.1571 - val_accuracy: 0.9426 - 82ms/epoch - 3ms/step\n",
            "Epoch 72/100\n",
            "31/31 - 0s - loss: 0.0912 - accuracy: 0.9938 - val_loss: 0.1515 - val_accuracy: 0.9590 - 86ms/epoch - 3ms/step\n",
            "Epoch 73/100\n",
            "31/31 - 0s - loss: 0.0907 - accuracy: 0.9979 - val_loss: 0.1478 - val_accuracy: 0.9590 - 80ms/epoch - 3ms/step\n",
            "Epoch 74/100\n",
            "31/31 - 0s - loss: 0.0913 - accuracy: 0.9938 - val_loss: 0.1505 - val_accuracy: 0.9508 - 86ms/epoch - 3ms/step\n",
            "Epoch 75/100\n",
            "31/31 - 0s - loss: 0.0883 - accuracy: 0.9938 - val_loss: 0.1508 - val_accuracy: 0.9426 - 98ms/epoch - 3ms/step\n",
            "Epoch 76/100\n",
            "31/31 - 0s - loss: 0.0843 - accuracy: 0.9959 - val_loss: 0.1432 - val_accuracy: 0.9590 - 90ms/epoch - 3ms/step\n",
            "Epoch 77/100\n",
            "31/31 - 0s - loss: 0.0841 - accuracy: 0.9959 - val_loss: 0.1413 - val_accuracy: 0.9590 - 93ms/epoch - 3ms/step\n",
            "Epoch 78/100\n",
            "31/31 - 0s - loss: 0.0796 - accuracy: 0.9979 - val_loss: 0.1482 - val_accuracy: 0.9426 - 92ms/epoch - 3ms/step\n",
            "Epoch 79/100\n",
            "31/31 - 0s - loss: 0.0783 - accuracy: 0.9979 - val_loss: 0.1408 - val_accuracy: 0.9590 - 132ms/epoch - 4ms/step\n",
            "Epoch 80/100\n",
            "31/31 - 0s - loss: 0.0820 - accuracy: 0.9979 - val_loss: 0.1395 - val_accuracy: 0.9590 - 93ms/epoch - 3ms/step\n",
            "Epoch 81/100\n",
            "31/31 - 0s - loss: 0.0768 - accuracy: 0.9979 - val_loss: 0.1419 - val_accuracy: 0.9508 - 84ms/epoch - 3ms/step\n",
            "Epoch 82/100\n",
            "31/31 - 0s - loss: 0.0750 - accuracy: 0.9979 - val_loss: 0.1399 - val_accuracy: 0.9426 - 81ms/epoch - 3ms/step\n",
            "Epoch 83/100\n",
            "31/31 - 0s - loss: 0.0720 - accuracy: 0.9979 - val_loss: 0.1355 - val_accuracy: 0.9590 - 80ms/epoch - 3ms/step\n",
            "Epoch 84/100\n",
            "31/31 - 0s - loss: 0.0689 - accuracy: 0.9979 - val_loss: 0.1328 - val_accuracy: 0.9590 - 90ms/epoch - 3ms/step\n",
            "Epoch 85/100\n",
            "31/31 - 0s - loss: 0.0708 - accuracy: 0.9959 - val_loss: 0.1325 - val_accuracy: 0.9590 - 89ms/epoch - 3ms/step\n",
            "Epoch 86/100\n",
            "31/31 - 0s - loss: 0.0685 - accuracy: 0.9959 - val_loss: 0.1269 - val_accuracy: 0.9590 - 97ms/epoch - 3ms/step\n",
            "Epoch 87/100\n",
            "31/31 - 0s - loss: 0.0639 - accuracy: 1.0000 - val_loss: 0.1327 - val_accuracy: 0.9590 - 95ms/epoch - 3ms/step\n",
            "Epoch 88/100\n",
            "31/31 - 0s - loss: 0.0655 - accuracy: 0.9979 - val_loss: 0.1301 - val_accuracy: 0.9590 - 78ms/epoch - 3ms/step\n",
            "Epoch 89/100\n",
            "31/31 - 0s - loss: 0.0605 - accuracy: 1.0000 - val_loss: 0.1297 - val_accuracy: 0.9590 - 94ms/epoch - 3ms/step\n",
            "Epoch 90/100\n",
            "31/31 - 0s - loss: 0.0649 - accuracy: 0.9959 - val_loss: 0.1308 - val_accuracy: 0.9590 - 83ms/epoch - 3ms/step\n",
            "Epoch 91/100\n",
            "31/31 - 0s - loss: 0.0607 - accuracy: 0.9979 - val_loss: 0.1284 - val_accuracy: 0.9590 - 87ms/epoch - 3ms/step\n",
            "Epoch 92/100\n",
            "31/31 - 0s - loss: 0.0641 - accuracy: 0.9938 - val_loss: 0.1318 - val_accuracy: 0.9426 - 97ms/epoch - 3ms/step\n",
            "Epoch 93/100\n",
            "31/31 - 0s - loss: 0.0629 - accuracy: 0.9979 - val_loss: 0.1287 - val_accuracy: 0.9590 - 81ms/epoch - 3ms/step\n",
            "Epoch 94/100\n",
            "31/31 - 0s - loss: 0.0578 - accuracy: 0.9979 - val_loss: 0.1224 - val_accuracy: 0.9590 - 99ms/epoch - 3ms/step\n",
            "Epoch 95/100\n",
            "31/31 - 0s - loss: 0.0535 - accuracy: 0.9979 - val_loss: 0.1239 - val_accuracy: 0.9590 - 90ms/epoch - 3ms/step\n",
            "Epoch 96/100\n",
            "31/31 - 0s - loss: 0.0571 - accuracy: 0.9979 - val_loss: 0.1241 - val_accuracy: 0.9508 - 81ms/epoch - 3ms/step\n",
            "Epoch 97/100\n",
            "31/31 - 0s - loss: 0.0528 - accuracy: 0.9979 - val_loss: 0.1225 - val_accuracy: 0.9590 - 88ms/epoch - 3ms/step\n",
            "Epoch 98/100\n",
            "31/31 - 0s - loss: 0.0528 - accuracy: 0.9959 - val_loss: 0.1257 - val_accuracy: 0.9590 - 82ms/epoch - 3ms/step\n",
            "Epoch 99/100\n",
            "31/31 - 0s - loss: 0.0507 - accuracy: 0.9979 - val_loss: 0.1173 - val_accuracy: 0.9590 - 101ms/epoch - 3ms/step\n",
            "Epoch 100/100\n",
            "31/31 - 0s - loss: 0.0506 - accuracy: 0.9979 - val_loss: 0.1201 - val_accuracy: 0.9508 - 87ms/epoch - 3ms/step\n"
          ]
        }
      ]
    },
    {
      "cell_type": "markdown",
      "source": [
        "Evaluating the model"
      ],
      "metadata": {
        "id": "XE_az9GELh51"
      }
    },
    {
      "cell_type": "code",
      "source": [
        "# Evaluating the model on the training and testing set\n",
        "score = model.evaluate(X_train, y_train)\n",
        "print(\"\\n Training Accuracy:\", score[1])\n",
        "\n",
        "score = model.evaluate(X_test, y_test, verbose=0)\n",
        "print(\"\\n Testing accuracy: \", score[1])"
      ],
      "metadata": {
        "colab": {
          "base_uri": "https://localhost:8080/"
        },
        "id": "NCE6RaCxLezV",
        "outputId": "0aa46e40-1272-4a45-c213-2a6ce8749e04"
      },
      "execution_count": 173,
      "outputs": [
        {
          "output_type": "stream",
          "name": "stdout",
          "text": [
            "16/16 [==============================] - 0s 2ms/step - loss: 0.0453 - accuracy: 1.0000\n",
            "\n",
            " Training Accuracy: 1.0\n",
            "\n",
            " Testing accuracy:  0.9508196711540222\n"
          ]
        }
      ]
    },
    {
      "cell_type": "markdown",
      "source": [
        "Step 8) Conclusion\n",
        "\n",
        "Out of all the models, we concluded that SVM and MLP provide the best accuracy."
      ],
      "metadata": {
        "id": "Kbo9X9wkP7uu"
      }
    }
  ]
}
